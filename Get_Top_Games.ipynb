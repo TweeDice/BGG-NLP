{
 "cells": [
  {
   "cell_type": "code",
   "execution_count": 1,
   "metadata": {
    "ExecuteTime": {
     "end_time": "2020-03-19T21:31:37.163020Z",
     "start_time": "2020-03-19T21:31:36.677704Z"
    }
   },
   "outputs": [],
   "source": [
    "import csv\n",
    "import urllib.request\n",
    "import xml.etree.ElementTree as ET\n",
    "import time\n",
    "from functools import wraps\n",
    "\n",
    "import pandas as pd\n",
    "import math\n",
    "\n",
    "import csv\n",
    "import urllib3\n",
    "import xml.etree.ElementTree as ET\n",
    "import time\n",
    "from functools import wraps\n",
    "\n",
    "from bs4 import BeautifulSoup as soup\n",
    "import re\n",
    "\n",
    "from tqdm import tqdm"
   ]
  },
  {
   "cell_type": "code",
   "execution_count": 2,
   "metadata": {
    "ExecuteTime": {
     "end_time": "2020-03-19T21:31:37.171967Z",
     "start_time": "2020-03-19T21:31:37.164985Z"
    }
   },
   "outputs": [],
   "source": [
    "http = urllib3.PoolManager()\n",
    "\n",
    "def urlopen_with_retry(url):\n",
    "    for _ in range(4):\n",
    "        try:\n",
    "            r = http.request('GET', url)\n",
    "            \n",
    "            break  # success\n",
    "        except Exception as e:\n",
    "            print('sleeping')\n",
    "            time.sleep(3)\n",
    "            raise  # propagate non-timeout errors\n",
    "    else:  # all ntries failed\n",
    "        raise   # re-raise the last timeout error\n",
    "        # use page here\n",
    "    return r\n",
    "\n",
    "\n",
    "def htmlRequest(urlTop, page, urlBottom=''):\n",
    "#     print(urlTop + page + urlBottom)\n",
    "    file = urlopen_with_retry(urlTop + page + urlBottom)\n",
    "    \n",
    "    return soup(file.data, 'lxml')"
   ]
  },
  {
   "cell_type": "markdown",
   "metadata": {},
   "source": [
    "# Pull Top Games"
   ]
  },
  {
   "cell_type": "code",
   "execution_count": 3,
   "metadata": {
    "ExecuteTime": {
     "end_time": "2020-03-19T21:32:34.958537Z",
     "start_time": "2020-03-19T21:31:39.858952Z"
    }
   },
   "outputs": [
    {
     "data": {
      "text/plain": [
       "18700"
      ]
     },
     "execution_count": 3,
     "metadata": {},
     "output_type": "execute_result"
    }
   ],
   "source": [
    "def doc2links(doc):\n",
    "    out_lst = []\n",
    "    doc_tbl = doc.find(id='collectionitems')\n",
    "    for x in doc_tbl.find_all(class_='collection_objectname'):\n",
    "        out_lst.append(x.find('a')['href'])\n",
    "    \n",
    "    return out_lst\n",
    "\n",
    "game_url_lst = []\n",
    "\n",
    "for i in range(1, 188):\n",
    "    game_url_lst = game_url_lst + doc2links(htmlRequest('https://boardgamegeek.com/browse/boardgame/page/', str(i)))\n",
    "    \n",
    "len(game_url_lst)"
   ]
  },
  {
   "cell_type": "code",
   "execution_count": 4,
   "metadata": {
    "ExecuteTime": {
     "end_time": "2020-03-19T21:32:34.963526Z",
     "start_time": "2020-03-19T21:32:34.959508Z"
    }
   },
   "outputs": [
    {
     "data": {
      "text/plain": [
       "['/boardgame/174430/gloomhaven',\n",
       " '/boardgame/161936/pandemic-legacy-season-1',\n",
       " '/boardgame/167791/terraforming-mars']"
      ]
     },
     "execution_count": 4,
     "metadata": {},
     "output_type": "execute_result"
    }
   ],
   "source": [
    "game_url_lst[:3]"
   ]
  },
  {
   "cell_type": "markdown",
   "metadata": {},
   "source": [
    "## Extract IDs"
   ]
  },
  {
   "cell_type": "code",
   "execution_count": 5,
   "metadata": {
    "ExecuteTime": {
     "end_time": "2020-03-19T21:32:35.006383Z",
     "start_time": "2020-03-19T21:32:34.964494Z"
    }
   },
   "outputs": [
    {
     "name": "stdout",
     "output_type": "stream",
     "text": [
      "/boardgameexpansion/79/medfront\n",
      "/boardgameexpansion/80/volgafront\n",
      "/boardgameexpansion/81/eurofront\n",
      "/boardgameexpansion/158/elfengold\n",
      "18696\n"
     ]
    },
    {
     "data": {
      "text/plain": [
       "['174430', '161936', '167791']"
      ]
     },
     "execution_count": 5,
     "metadata": {},
     "output_type": "execute_result"
    }
   ],
   "source": [
    "p = re.compile('(?<=/boardgame/).*(?=/)')\n",
    "\n",
    "game_ids = []\n",
    "for x in game_url_lst:\n",
    "    try:\n",
    "        game_ids.append(p.search(x).group())\n",
    "    except:\n",
    "        print(x)\n",
    "        \n",
    "print(len(game_ids))\n",
    "game_ids[:3]"
   ]
  },
  {
   "cell_type": "markdown",
   "metadata": {},
   "source": [
    "# Get Game Data"
   ]
  },
  {
   "cell_type": "code",
   "execution_count": 6,
   "metadata": {
    "ExecuteTime": {
     "end_time": "2020-03-19T21:32:35.015386Z",
     "start_time": "2020-03-19T21:32:35.007381Z"
    },
    "scrolled": true
   },
   "outputs": [],
   "source": [
    "def attrs2lst(item, attr):\n",
    "    out_lst = []\n",
    "    for x in item.find_all(attr):\n",
    "        out_lst.append(x.string)\n",
    "    return out_lst\n",
    "\n",
    "def find_name(game):\n",
    "    for x in game.find_all('name'):\n",
    "        try:\n",
    "            if x['primary'] == 'true':\n",
    "                return x.string\n",
    "        except:\n",
    "            pass\n",
    "        \n",
    "    return None\n",
    "\n",
    "def xml2df(xml):\n",
    "    out_dict = {}\n",
    "    for game in xml.find_all('boardgame'):\n",
    "        game_id = game['objectid']\n",
    "        out_dict[game_id] = {}\n",
    "        try:\n",
    "            out_dict[game_id]['name'] = find_name(game)\n",
    "        except:\n",
    "            out_dict[game_id]['name'] = None\n",
    "        try:\n",
    "            out_dict[game_id]['description'] = game.find('description').string\n",
    "        except:\n",
    "            out_dict[game_id]['description'] = None\n",
    "\n",
    "        out_dict[game_id]['boardgamecategorys'] = attrs2lst(game, 'boardgamecategory')\n",
    "        out_dict[game_id]['boardgamemechanics'] = attrs2lst(game, 'boardgamemechanic')\n",
    "\n",
    "    return pd.DataFrame.from_dict(out_dict, orient='index')"
   ]
  },
  {
   "cell_type": "code",
   "execution_count": 7,
   "metadata": {
    "ExecuteTime": {
     "end_time": "2020-03-19T21:40:38.772778Z",
     "start_time": "2020-03-19T21:32:49.892091Z"
    },
    "scrolled": true
   },
   "outputs": [
    {
     "name": "stderr",
     "output_type": "stream",
     "text": [
      "100%|██████████████████████████████████████████████████████████████████████████████████| 38/38 [07:48<00:00, 12.34s/it]\n"
     ]
    }
   ],
   "source": [
    "n = 500\n",
    "df_lst = []\n",
    "\n",
    "for i in tqdm(range(n, len(game_ids)+n, n)):\n",
    "    s = i - n\n",
    "    if i > len(game_ids):\n",
    "        i = len(game_ids)\n",
    "    xml = htmlRequest('https://www.boardgamegeek.com/xmlapi/boardgame/', ','.join(game_ids[s:i]))\n",
    "    df_lst.append(xml2df(xml))"
   ]
  },
  {
   "cell_type": "code",
   "execution_count": 8,
   "metadata": {
    "ExecuteTime": {
     "end_time": "2020-03-19T21:41:40.283102Z",
     "start_time": "2020-03-19T21:41:40.265151Z"
    }
   },
   "outputs": [
    {
     "data": {
      "text/html": [
       "<div>\n",
       "<style scoped>\n",
       "    .dataframe tbody tr th:only-of-type {\n",
       "        vertical-align: middle;\n",
       "    }\n",
       "\n",
       "    .dataframe tbody tr th {\n",
       "        vertical-align: top;\n",
       "    }\n",
       "\n",
       "    .dataframe thead th {\n",
       "        text-align: right;\n",
       "    }\n",
       "</style>\n",
       "<table border=\"1\" class=\"dataframe\">\n",
       "  <thead>\n",
       "    <tr style=\"text-align: right;\">\n",
       "      <th></th>\n",
       "      <th>name</th>\n",
       "      <th>description</th>\n",
       "      <th>boardgamecategorys</th>\n",
       "      <th>boardgamemechanics</th>\n",
       "    </tr>\n",
       "  </thead>\n",
       "  <tbody>\n",
       "    <tr>\n",
       "      <th>174430</th>\n",
       "      <td>Gloomhaven</td>\n",
       "      <td>Gloomhaven  is a game of Euro-inspired tactica...</td>\n",
       "      <td>[Adventure, Exploration, Fantasy, Fighting, Mi...</td>\n",
       "      <td>[Action Retrieval, Campaign / Battle Card Driv...</td>\n",
       "    </tr>\n",
       "    <tr>\n",
       "      <th>161936</th>\n",
       "      <td>Pandemic Legacy: Season 1</td>\n",
       "      <td>Pandemic Legacy is a co-operative campaign gam...</td>\n",
       "      <td>[Environmental, Medical]</td>\n",
       "      <td>[Action Points, Cooperative Game, Hand Managem...</td>\n",
       "    </tr>\n",
       "    <tr>\n",
       "      <th>167791</th>\n",
       "      <td>Terraforming Mars</td>\n",
       "      <td>In the 2400s, mankind begins to terraform the ...</td>\n",
       "      <td>[Economic, Environmental, Industry / Manufactu...</td>\n",
       "      <td>[Card Drafting, End Game Bonuses, Hand Managem...</td>\n",
       "    </tr>\n",
       "    <tr>\n",
       "      <th>224517</th>\n",
       "      <td>Brass: Birmingham</td>\n",
       "      <td>Brass: Birmingham is an economic strategy game...</td>\n",
       "      <td>[Economic, Industry / Manufacturing, Transport...</td>\n",
       "      <td>[Connections, Hand Management, Income, Loans, ...</td>\n",
       "    </tr>\n",
       "    <tr>\n",
       "      <th>182028</th>\n",
       "      <td>Through the Ages: A New Story of Civilization</td>\n",
       "      <td>Through the Ages: A New Story of Civilization ...</td>\n",
       "      <td>[Card Game, Civilization, Economic]</td>\n",
       "      <td>[Action Points, Auction/Bidding, Auction: Dutc...</td>\n",
       "    </tr>\n",
       "    <tr>\n",
       "      <th>...</th>\n",
       "      <td>...</td>\n",
       "      <td>...</td>\n",
       "      <td>...</td>\n",
       "      <td>...</td>\n",
       "    </tr>\n",
       "    <tr>\n",
       "      <th>253344</th>\n",
       "      <td>Cthulhu: Death May Die</td>\n",
       "      <td>In Cthulhu: Death May Die, inspired by the wri...</td>\n",
       "      <td>[Fantasy, Fighting, Horror]</td>\n",
       "      <td>[Action Points, Cooperative Game, Dice Rolling...</td>\n",
       "    </tr>\n",
       "    <tr>\n",
       "      <th>10547</th>\n",
       "      <td>Betrayal at House on the Hill</td>\n",
       "      <td>From the press release:&lt;br/&gt;&lt;br/&gt;Betrayal at H...</td>\n",
       "      <td>[Adventure, Exploration, Horror, Miniatures]</td>\n",
       "      <td>[Dice Rolling, Map Addition, Modular Board, Pl...</td>\n",
       "    </tr>\n",
       "    <tr>\n",
       "      <th>170561</th>\n",
       "      <td>Valeria: Card Kingdoms</td>\n",
       "      <td>The land of Valeria is under siege by hordes o...</td>\n",
       "      <td>[Card Game, Dice, Fantasy]</td>\n",
       "      <td>[Card Drafting, Deck, Bag, and Pool Building, ...</td>\n",
       "    </tr>\n",
       "    <tr>\n",
       "      <th>586</th>\n",
       "      <td>Up Front</td>\n",
       "      <td>Only once in a great while does a game dare to...</td>\n",
       "      <td>[Card Game, Wargame, World War II]</td>\n",
       "      <td>[Campaign / Battle Card Driven, Hand Managemen...</td>\n",
       "    </tr>\n",
       "    <tr>\n",
       "      <th>3201</th>\n",
       "      <td>Lord of the Rings: The Confrontation</td>\n",
       "      <td>An asymmetrical Stratego-like game themed arou...</td>\n",
       "      <td>[Adventure, Bluffing, Deduction, Fantasy, Movi...</td>\n",
       "      <td>[Area Movement, Hand Management, Memory, Secre...</td>\n",
       "    </tr>\n",
       "  </tbody>\n",
       "</table>\n",
       "<p>502 rows × 4 columns</p>\n",
       "</div>"
      ],
      "text/plain": [
       "                                                 name  \\\n",
       "174430                                     Gloomhaven   \n",
       "161936                      Pandemic Legacy: Season 1   \n",
       "167791                              Terraforming Mars   \n",
       "224517                              Brass: Birmingham   \n",
       "182028  Through the Ages: A New Story of Civilization   \n",
       "...                                               ...   \n",
       "253344                         Cthulhu: Death May Die   \n",
       "10547                   Betrayal at House on the Hill   \n",
       "170561                         Valeria: Card Kingdoms   \n",
       "586                                          Up Front   \n",
       "3201             Lord of the Rings: The Confrontation   \n",
       "\n",
       "                                              description  \\\n",
       "174430  Gloomhaven  is a game of Euro-inspired tactica...   \n",
       "161936  Pandemic Legacy is a co-operative campaign gam...   \n",
       "167791  In the 2400s, mankind begins to terraform the ...   \n",
       "224517  Brass: Birmingham is an economic strategy game...   \n",
       "182028  Through the Ages: A New Story of Civilization ...   \n",
       "...                                                   ...   \n",
       "253344  In Cthulhu: Death May Die, inspired by the wri...   \n",
       "10547   From the press release:<br/><br/>Betrayal at H...   \n",
       "170561  The land of Valeria is under siege by hordes o...   \n",
       "586     Only once in a great while does a game dare to...   \n",
       "3201    An asymmetrical Stratego-like game themed arou...   \n",
       "\n",
       "                                       boardgamecategorys  \\\n",
       "174430  [Adventure, Exploration, Fantasy, Fighting, Mi...   \n",
       "161936                           [Environmental, Medical]   \n",
       "167791  [Economic, Environmental, Industry / Manufactu...   \n",
       "224517  [Economic, Industry / Manufacturing, Transport...   \n",
       "182028                [Card Game, Civilization, Economic]   \n",
       "...                                                   ...   \n",
       "253344                        [Fantasy, Fighting, Horror]   \n",
       "10547        [Adventure, Exploration, Horror, Miniatures]   \n",
       "170561                         [Card Game, Dice, Fantasy]   \n",
       "586                    [Card Game, Wargame, World War II]   \n",
       "3201    [Adventure, Bluffing, Deduction, Fantasy, Movi...   \n",
       "\n",
       "                                       boardgamemechanics  \n",
       "174430  [Action Retrieval, Campaign / Battle Card Driv...  \n",
       "161936  [Action Points, Cooperative Game, Hand Managem...  \n",
       "167791  [Card Drafting, End Game Bonuses, Hand Managem...  \n",
       "224517  [Connections, Hand Management, Income, Loans, ...  \n",
       "182028  [Action Points, Auction/Bidding, Auction: Dutc...  \n",
       "...                                                   ...  \n",
       "253344  [Action Points, Cooperative Game, Dice Rolling...  \n",
       "10547   [Dice Rolling, Map Addition, Modular Board, Pl...  \n",
       "170561  [Card Drafting, Deck, Bag, and Pool Building, ...  \n",
       "586     [Campaign / Battle Card Driven, Hand Managemen...  \n",
       "3201    [Area Movement, Hand Management, Memory, Secre...  \n",
       "\n",
       "[502 rows x 4 columns]"
      ]
     },
     "execution_count": 8,
     "metadata": {},
     "output_type": "execute_result"
    }
   ],
   "source": [
    "df_lst[0]"
   ]
  },
  {
   "cell_type": "code",
   "execution_count": 9,
   "metadata": {
    "ExecuteTime": {
     "end_time": "2020-03-19T21:41:41.149561Z",
     "start_time": "2020-03-19T21:41:41.123630Z"
    }
   },
   "outputs": [
    {
     "name": "stdout",
     "output_type": "stream",
     "text": [
      "(18740, 4)\n"
     ]
    },
    {
     "data": {
      "text/html": [
       "<div>\n",
       "<style scoped>\n",
       "    .dataframe tbody tr th:only-of-type {\n",
       "        vertical-align: middle;\n",
       "    }\n",
       "\n",
       "    .dataframe tbody tr th {\n",
       "        vertical-align: top;\n",
       "    }\n",
       "\n",
       "    .dataframe thead th {\n",
       "        text-align: right;\n",
       "    }\n",
       "</style>\n",
       "<table border=\"1\" class=\"dataframe\">\n",
       "  <thead>\n",
       "    <tr style=\"text-align: right;\">\n",
       "      <th></th>\n",
       "      <th>name</th>\n",
       "      <th>description</th>\n",
       "      <th>boardgamecategorys</th>\n",
       "      <th>boardgamemechanics</th>\n",
       "    </tr>\n",
       "  </thead>\n",
       "  <tbody>\n",
       "    <tr>\n",
       "      <th>174430</th>\n",
       "      <td>Gloomhaven</td>\n",
       "      <td>Gloomhaven  is a game of Euro-inspired tactica...</td>\n",
       "      <td>[Adventure, Exploration, Fantasy, Fighting, Mi...</td>\n",
       "      <td>[Action Retrieval, Campaign / Battle Card Driv...</td>\n",
       "    </tr>\n",
       "    <tr>\n",
       "      <th>161936</th>\n",
       "      <td>Pandemic Legacy: Season 1</td>\n",
       "      <td>Pandemic Legacy is a co-operative campaign gam...</td>\n",
       "      <td>[Environmental, Medical]</td>\n",
       "      <td>[Action Points, Cooperative Game, Hand Managem...</td>\n",
       "    </tr>\n",
       "    <tr>\n",
       "      <th>167791</th>\n",
       "      <td>Terraforming Mars</td>\n",
       "      <td>In the 2400s, mankind begins to terraform the ...</td>\n",
       "      <td>[Economic, Environmental, Industry / Manufactu...</td>\n",
       "      <td>[Card Drafting, End Game Bonuses, Hand Managem...</td>\n",
       "    </tr>\n",
       "    <tr>\n",
       "      <th>224517</th>\n",
       "      <td>Brass: Birmingham</td>\n",
       "      <td>Brass: Birmingham is an economic strategy game...</td>\n",
       "      <td>[Economic, Industry / Manufacturing, Transport...</td>\n",
       "      <td>[Connections, Hand Management, Income, Loans, ...</td>\n",
       "    </tr>\n",
       "    <tr>\n",
       "      <th>182028</th>\n",
       "      <td>Through the Ages: A New Story of Civilization</td>\n",
       "      <td>Through the Ages: A New Story of Civilization ...</td>\n",
       "      <td>[Card Game, Civilization, Economic]</td>\n",
       "      <td>[Action Points, Auction/Bidding, Auction: Dutc...</td>\n",
       "    </tr>\n",
       "  </tbody>\n",
       "</table>\n",
       "</div>"
      ],
      "text/plain": [
       "                                                 name  \\\n",
       "174430                                     Gloomhaven   \n",
       "161936                      Pandemic Legacy: Season 1   \n",
       "167791                              Terraforming Mars   \n",
       "224517                              Brass: Birmingham   \n",
       "182028  Through the Ages: A New Story of Civilization   \n",
       "\n",
       "                                              description  \\\n",
       "174430  Gloomhaven  is a game of Euro-inspired tactica...   \n",
       "161936  Pandemic Legacy is a co-operative campaign gam...   \n",
       "167791  In the 2400s, mankind begins to terraform the ...   \n",
       "224517  Brass: Birmingham is an economic strategy game...   \n",
       "182028  Through the Ages: A New Story of Civilization ...   \n",
       "\n",
       "                                       boardgamecategorys  \\\n",
       "174430  [Adventure, Exploration, Fantasy, Fighting, Mi...   \n",
       "161936                           [Environmental, Medical]   \n",
       "167791  [Economic, Environmental, Industry / Manufactu...   \n",
       "224517  [Economic, Industry / Manufacturing, Transport...   \n",
       "182028                [Card Game, Civilization, Economic]   \n",
       "\n",
       "                                       boardgamemechanics  \n",
       "174430  [Action Retrieval, Campaign / Battle Card Driv...  \n",
       "161936  [Action Points, Cooperative Game, Hand Managem...  \n",
       "167791  [Card Drafting, End Game Bonuses, Hand Managem...  \n",
       "224517  [Connections, Hand Management, Income, Loans, ...  \n",
       "182028  [Action Points, Auction/Bidding, Auction: Dutc...  "
      ]
     },
     "execution_count": 9,
     "metadata": {},
     "output_type": "execute_result"
    }
   ],
   "source": [
    "df = pd.concat(df_lst)\n",
    "\n",
    "print(df.shape)\n",
    "df.head()"
   ]
  },
  {
   "cell_type": "code",
   "execution_count": 10,
   "metadata": {
    "ExecuteTime": {
     "end_time": "2020-03-19T21:41:42.809476Z",
     "start_time": "2020-03-19T21:41:42.404441Z"
    }
   },
   "outputs": [],
   "source": [
    "df.to_csv('bgg_data.csv')"
   ]
  },
  {
   "cell_type": "code",
   "execution_count": null,
   "metadata": {},
   "outputs": [],
   "source": []
  }
 ],
 "metadata": {
  "kernelspec": {
   "display_name": "Python 3",
   "language": "python",
   "name": "python3"
  },
  "language_info": {
   "codemirror_mode": {
    "name": "ipython",
    "version": 3
   },
   "file_extension": ".py",
   "mimetype": "text/x-python",
   "name": "python",
   "nbconvert_exporter": "python",
   "pygments_lexer": "ipython3",
   "version": "3.6.10"
  },
  "toc": {
   "base_numbering": 1,
   "nav_menu": {},
   "number_sections": true,
   "sideBar": true,
   "skip_h1_title": false,
   "title_cell": "Table of Contents",
   "title_sidebar": "Contents",
   "toc_cell": false,
   "toc_position": {},
   "toc_section_display": true,
   "toc_window_display": false
  }
 },
 "nbformat": 4,
 "nbformat_minor": 4
}
