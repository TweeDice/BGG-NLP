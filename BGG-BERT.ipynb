{
 "cells": [
  {
   "cell_type": "code",
   "execution_count": 1,
   "metadata": {
    "ExecuteTime": {
     "end_time": "2020-03-24T03:15:01.619547Z",
     "start_time": "2020-03-24T03:15:00.952899Z"
    }
   },
   "outputs": [],
   "source": [
    "import pandas as pd\n",
    "import numpy as np\n",
    "\n",
    "from sklearn.preprocessing import MultiLabelBinarizer"
   ]
  },
  {
   "cell_type": "markdown",
   "metadata": {},
   "source": [
    "# Read Data"
   ]
  },
  {
   "cell_type": "code",
   "execution_count": 2,
   "metadata": {
    "ExecuteTime": {
     "end_time": "2020-03-24T03:15:01.832975Z",
     "start_time": "2020-03-24T03:15:01.620544Z"
    }
   },
   "outputs": [
    {
     "name": "stdout",
     "output_type": "stream",
     "text": [
      "(18740, 4)\n"
     ]
    },
    {
     "data": {
      "text/html": [
       "<div>\n",
       "<style scoped>\n",
       "    .dataframe tbody tr th:only-of-type {\n",
       "        vertical-align: middle;\n",
       "    }\n",
       "\n",
       "    .dataframe tbody tr th {\n",
       "        vertical-align: top;\n",
       "    }\n",
       "\n",
       "    .dataframe thead th {\n",
       "        text-align: right;\n",
       "    }\n",
       "</style>\n",
       "<table border=\"1\" class=\"dataframe\">\n",
       "  <thead>\n",
       "    <tr style=\"text-align: right;\">\n",
       "      <th></th>\n",
       "      <th>name</th>\n",
       "      <th>description</th>\n",
       "      <th>boardgamecategorys</th>\n",
       "      <th>boardgamemechanics</th>\n",
       "    </tr>\n",
       "  </thead>\n",
       "  <tbody>\n",
       "    <tr>\n",
       "      <th>174430</th>\n",
       "      <td>Gloomhaven</td>\n",
       "      <td>Gloomhaven  is a game of Euro-inspired tactica...</td>\n",
       "      <td>['Adventure', 'Exploration', 'Fantasy', 'Fight...</td>\n",
       "      <td>['Action Retrieval', 'Campaign / Battle Card D...</td>\n",
       "    </tr>\n",
       "    <tr>\n",
       "      <th>161936</th>\n",
       "      <td>Pandemic Legacy: Season 1</td>\n",
       "      <td>Pandemic Legacy is a co-operative campaign gam...</td>\n",
       "      <td>['Environmental', 'Medical']</td>\n",
       "      <td>['Action Points', 'Cooperative Game', 'Hand Ma...</td>\n",
       "    </tr>\n",
       "    <tr>\n",
       "      <th>167791</th>\n",
       "      <td>Terraforming Mars</td>\n",
       "      <td>In the 2400s, mankind begins to terraform the ...</td>\n",
       "      <td>['Economic', 'Environmental', 'Industry / Manu...</td>\n",
       "      <td>['Card Drafting', 'End Game Bonuses', 'Hand Ma...</td>\n",
       "    </tr>\n",
       "    <tr>\n",
       "      <th>224517</th>\n",
       "      <td>Brass: Birmingham</td>\n",
       "      <td>Brass: Birmingham is an economic strategy game...</td>\n",
       "      <td>['Economic', 'Industry / Manufacturing', 'Tran...</td>\n",
       "      <td>['Connections', 'Hand Management', 'Income', '...</td>\n",
       "    </tr>\n",
       "    <tr>\n",
       "      <th>182028</th>\n",
       "      <td>Through the Ages: A New Story of Civilization</td>\n",
       "      <td>Through the Ages: A New Story of Civilization ...</td>\n",
       "      <td>['Card Game', 'Civilization', 'Economic']</td>\n",
       "      <td>['Action Points', 'Auction/Bidding', 'Auction:...</td>\n",
       "    </tr>\n",
       "  </tbody>\n",
       "</table>\n",
       "</div>"
      ],
      "text/plain": [
       "                                                 name  \\\n",
       "174430                                     Gloomhaven   \n",
       "161936                      Pandemic Legacy: Season 1   \n",
       "167791                              Terraforming Mars   \n",
       "224517                              Brass: Birmingham   \n",
       "182028  Through the Ages: A New Story of Civilization   \n",
       "\n",
       "                                              description  \\\n",
       "174430  Gloomhaven  is a game of Euro-inspired tactica...   \n",
       "161936  Pandemic Legacy is a co-operative campaign gam...   \n",
       "167791  In the 2400s, mankind begins to terraform the ...   \n",
       "224517  Brass: Birmingham is an economic strategy game...   \n",
       "182028  Through the Ages: A New Story of Civilization ...   \n",
       "\n",
       "                                       boardgamecategorys  \\\n",
       "174430  ['Adventure', 'Exploration', 'Fantasy', 'Fight...   \n",
       "161936                       ['Environmental', 'Medical']   \n",
       "167791  ['Economic', 'Environmental', 'Industry / Manu...   \n",
       "224517  ['Economic', 'Industry / Manufacturing', 'Tran...   \n",
       "182028          ['Card Game', 'Civilization', 'Economic']   \n",
       "\n",
       "                                       boardgamemechanics  \n",
       "174430  ['Action Retrieval', 'Campaign / Battle Card D...  \n",
       "161936  ['Action Points', 'Cooperative Game', 'Hand Ma...  \n",
       "167791  ['Card Drafting', 'End Game Bonuses', 'Hand Ma...  \n",
       "224517  ['Connections', 'Hand Management', 'Income', '...  \n",
       "182028  ['Action Points', 'Auction/Bidding', 'Auction:...  "
      ]
     },
     "execution_count": 2,
     "metadata": {},
     "output_type": "execute_result"
    }
   ],
   "source": [
    "df = pd.read_csv('../data/bgg_data.csv', index_col=0)\n",
    "\n",
    "print(df.shape)\n",
    "df.head()"
   ]
  },
  {
   "cell_type": "code",
   "execution_count": 3,
   "metadata": {
    "ExecuteTime": {
     "end_time": "2020-03-24T03:15:01.844944Z",
     "start_time": "2020-03-24T03:15:01.833974Z"
    }
   },
   "outputs": [
    {
     "data": {
      "text/html": [
       "<div>\n",
       "<style scoped>\n",
       "    .dataframe tbody tr th:only-of-type {\n",
       "        vertical-align: middle;\n",
       "    }\n",
       "\n",
       "    .dataframe tbody tr th {\n",
       "        vertical-align: top;\n",
       "    }\n",
       "\n",
       "    .dataframe thead th {\n",
       "        text-align: right;\n",
       "    }\n",
       "</style>\n",
       "<table border=\"1\" class=\"dataframe\">\n",
       "  <thead>\n",
       "    <tr style=\"text-align: right;\">\n",
       "      <th></th>\n",
       "      <th>name</th>\n",
       "      <th>description</th>\n",
       "      <th>boardgamecategorys</th>\n",
       "      <th>boardgamemechanics</th>\n",
       "      <th>game_id</th>\n",
       "    </tr>\n",
       "  </thead>\n",
       "  <tbody>\n",
       "    <tr>\n",
       "      <th>0</th>\n",
       "      <td>Gloomhaven</td>\n",
       "      <td>Gloomhaven  is a game of Euro-inspired tactica...</td>\n",
       "      <td>['Adventure', 'Exploration', 'Fantasy', 'Fight...</td>\n",
       "      <td>['Action Retrieval', 'Campaign / Battle Card D...</td>\n",
       "      <td>174430</td>\n",
       "    </tr>\n",
       "    <tr>\n",
       "      <th>1</th>\n",
       "      <td>Pandemic Legacy: Season 1</td>\n",
       "      <td>Pandemic Legacy is a co-operative campaign gam...</td>\n",
       "      <td>['Environmental', 'Medical']</td>\n",
       "      <td>['Action Points', 'Cooperative Game', 'Hand Ma...</td>\n",
       "      <td>161936</td>\n",
       "    </tr>\n",
       "    <tr>\n",
       "      <th>2</th>\n",
       "      <td>Terraforming Mars</td>\n",
       "      <td>In the 2400s, mankind begins to terraform the ...</td>\n",
       "      <td>['Economic', 'Environmental', 'Industry / Manu...</td>\n",
       "      <td>['Card Drafting', 'End Game Bonuses', 'Hand Ma...</td>\n",
       "      <td>167791</td>\n",
       "    </tr>\n",
       "    <tr>\n",
       "      <th>3</th>\n",
       "      <td>Brass: Birmingham</td>\n",
       "      <td>Brass: Birmingham is an economic strategy game...</td>\n",
       "      <td>['Economic', 'Industry / Manufacturing', 'Tran...</td>\n",
       "      <td>['Connections', 'Hand Management', 'Income', '...</td>\n",
       "      <td>224517</td>\n",
       "    </tr>\n",
       "    <tr>\n",
       "      <th>4</th>\n",
       "      <td>Through the Ages: A New Story of Civilization</td>\n",
       "      <td>Through the Ages: A New Story of Civilization ...</td>\n",
       "      <td>['Card Game', 'Civilization', 'Economic']</td>\n",
       "      <td>['Action Points', 'Auction/Bidding', 'Auction:...</td>\n",
       "      <td>182028</td>\n",
       "    </tr>\n",
       "  </tbody>\n",
       "</table>\n",
       "</div>"
      ],
      "text/plain": [
       "                                            name  \\\n",
       "0                                     Gloomhaven   \n",
       "1                      Pandemic Legacy: Season 1   \n",
       "2                              Terraforming Mars   \n",
       "3                              Brass: Birmingham   \n",
       "4  Through the Ages: A New Story of Civilization   \n",
       "\n",
       "                                         description  \\\n",
       "0  Gloomhaven  is a game of Euro-inspired tactica...   \n",
       "1  Pandemic Legacy is a co-operative campaign gam...   \n",
       "2  In the 2400s, mankind begins to terraform the ...   \n",
       "3  Brass: Birmingham is an economic strategy game...   \n",
       "4  Through the Ages: A New Story of Civilization ...   \n",
       "\n",
       "                                  boardgamecategorys  \\\n",
       "0  ['Adventure', 'Exploration', 'Fantasy', 'Fight...   \n",
       "1                       ['Environmental', 'Medical']   \n",
       "2  ['Economic', 'Environmental', 'Industry / Manu...   \n",
       "3  ['Economic', 'Industry / Manufacturing', 'Tran...   \n",
       "4          ['Card Game', 'Civilization', 'Economic']   \n",
       "\n",
       "                                  boardgamemechanics  game_id  \n",
       "0  ['Action Retrieval', 'Campaign / Battle Card D...   174430  \n",
       "1  ['Action Points', 'Cooperative Game', 'Hand Ma...   161936  \n",
       "2  ['Card Drafting', 'End Game Bonuses', 'Hand Ma...   167791  \n",
       "3  ['Connections', 'Hand Management', 'Income', '...   224517  \n",
       "4  ['Action Points', 'Auction/Bidding', 'Auction:...   182028  "
      ]
     },
     "execution_count": 3,
     "metadata": {},
     "output_type": "execute_result"
    }
   ],
   "source": [
    "df['game_id'] = df.index\n",
    "df = df.reset_index(drop=True)\n",
    "df.head()"
   ]
  },
  {
   "cell_type": "markdown",
   "metadata": {},
   "source": [
    "# Handle Dups"
   ]
  },
  {
   "cell_type": "code",
   "execution_count": 4,
   "metadata": {
    "ExecuteTime": {
     "end_time": "2020-03-24T03:15:01.854947Z",
     "start_time": "2020-03-24T03:15:01.845941Z"
    }
   },
   "outputs": [
    {
     "data": {
      "text/plain": [
       "18338"
      ]
     },
     "execution_count": 4,
     "metadata": {},
     "output_type": "execute_result"
    }
   ],
   "source": [
    "df.name.nunique()"
   ]
  },
  {
   "cell_type": "code",
   "execution_count": 5,
   "metadata": {
    "ExecuteTime": {
     "end_time": "2020-03-24T03:15:01.873870Z",
     "start_time": "2020-03-24T03:15:01.855915Z"
    }
   },
   "outputs": [
    {
     "data": {
      "text/plain": [
       "Robin Hood          5\n",
       "Saga                4\n",
       "Gettysburg          4\n",
       "Gangster            4\n",
       "Cosmic Encounter    4\n",
       "                   ..\n",
       "Cat & Mouse         2\n",
       "Xerxes              2\n",
       "Labyrinth           2\n",
       "Singapore           2\n",
       "Antarctica          2\n",
       "Name: name, Length: 315, dtype: int64"
      ]
     },
     "execution_count": 5,
     "metadata": {},
     "output_type": "execute_result"
    }
   ],
   "source": [
    "temp = df.name.value_counts()\n",
    "temp[temp > 1]"
   ]
  },
  {
   "cell_type": "code",
   "execution_count": 6,
   "metadata": {
    "ExecuteTime": {
     "end_time": "2020-03-24T03:15:01.887830Z",
     "start_time": "2020-03-24T03:15:01.875862Z"
    }
   },
   "outputs": [
    {
     "data": {
      "text/html": [
       "<div>\n",
       "<style scoped>\n",
       "    .dataframe tbody tr th:only-of-type {\n",
       "        vertical-align: middle;\n",
       "    }\n",
       "\n",
       "    .dataframe tbody tr th {\n",
       "        vertical-align: top;\n",
       "    }\n",
       "\n",
       "    .dataframe thead th {\n",
       "        text-align: right;\n",
       "    }\n",
       "</style>\n",
       "<table border=\"1\" class=\"dataframe\">\n",
       "  <thead>\n",
       "    <tr style=\"text-align: right;\">\n",
       "      <th></th>\n",
       "      <th>name</th>\n",
       "      <th>description</th>\n",
       "      <th>boardgamecategorys</th>\n",
       "      <th>boardgamemechanics</th>\n",
       "      <th>game_id</th>\n",
       "    </tr>\n",
       "  </thead>\n",
       "  <tbody>\n",
       "    <tr>\n",
       "      <th>129</th>\n",
       "      <td>Cosmic Encounter</td>\n",
       "      <td>Build a galactic empire... In the depths of sp...</td>\n",
       "      <td>['Bluffing', 'Negotiation', 'Science Fiction',...</td>\n",
       "      <td>['Alliances', 'Auction/Bidding', 'Hand Managem...</td>\n",
       "      <td>39463</td>\n",
       "    </tr>\n",
       "    <tr>\n",
       "      <th>1016</th>\n",
       "      <td>Cosmic Encounter</td>\n",
       "      <td>By request of Fantasy Flight Games, Board Game...</td>\n",
       "      <td>['Bluffing', 'Negotiation', 'Science Fiction']</td>\n",
       "      <td>['Hand Management', 'Negotiation', 'Variable P...</td>\n",
       "      <td>15</td>\n",
       "    </tr>\n",
       "    <tr>\n",
       "      <th>1724</th>\n",
       "      <td>Cosmic Encounter</td>\n",
       "      <td>Players represent alien races that are seeking...</td>\n",
       "      <td>['Bluffing', 'Card Game', 'Science Fiction']</td>\n",
       "      <td>['Variable Player Powers']</td>\n",
       "      <td>40529</td>\n",
       "    </tr>\n",
       "    <tr>\n",
       "      <th>2783</th>\n",
       "      <td>Cosmic Encounter</td>\n",
       "      <td>In Cosmic Encounter, you play the leader of a ...</td>\n",
       "      <td>['Bluffing', 'Card Game', 'Science Fiction']</td>\n",
       "      <td>['Variable Player Powers']</td>\n",
       "      <td>40531</td>\n",
       "    </tr>\n",
       "  </tbody>\n",
       "</table>\n",
       "</div>"
      ],
      "text/plain": [
       "                  name                                        description  \\\n",
       "129   Cosmic Encounter  Build a galactic empire... In the depths of sp...   \n",
       "1016  Cosmic Encounter  By request of Fantasy Flight Games, Board Game...   \n",
       "1724  Cosmic Encounter  Players represent alien races that are seeking...   \n",
       "2783  Cosmic Encounter  In Cosmic Encounter, you play the leader of a ...   \n",
       "\n",
       "                                     boardgamecategorys  \\\n",
       "129   ['Bluffing', 'Negotiation', 'Science Fiction',...   \n",
       "1016     ['Bluffing', 'Negotiation', 'Science Fiction']   \n",
       "1724       ['Bluffing', 'Card Game', 'Science Fiction']   \n",
       "2783       ['Bluffing', 'Card Game', 'Science Fiction']   \n",
       "\n",
       "                                     boardgamemechanics  game_id  \n",
       "129   ['Alliances', 'Auction/Bidding', 'Hand Managem...    39463  \n",
       "1016  ['Hand Management', 'Negotiation', 'Variable P...       15  \n",
       "1724                         ['Variable Player Powers']    40529  \n",
       "2783                         ['Variable Player Powers']    40531  "
      ]
     },
     "execution_count": 6,
     "metadata": {},
     "output_type": "execute_result"
    }
   ],
   "source": [
    "df[df.name == 'Cosmic Encounter']"
   ]
  },
  {
   "cell_type": "markdown",
   "metadata": {},
   "source": [
    "We will keep the duplicates as long as the decription differs"
   ]
  },
  {
   "cell_type": "code",
   "execution_count": 7,
   "metadata": {
    "ExecuteTime": {
     "end_time": "2020-03-24T03:15:01.958639Z",
     "start_time": "2020-03-24T03:15:01.889824Z"
    }
   },
   "outputs": [
    {
     "data": {
      "text/plain": [
       "Series([], Name: name, dtype: int64)"
      ]
     },
     "execution_count": 7,
     "metadata": {},
     "output_type": "execute_result"
    }
   ],
   "source": [
    "temp = df.groupby(['name', 'description']).name.count()\n",
    "temp[temp > 1]"
   ]
  },
  {
   "cell_type": "markdown",
   "metadata": {},
   "source": [
    "# Format Data"
   ]
  },
  {
   "cell_type": "markdown",
   "metadata": {
    "ExecuteTime": {
     "end_time": "2020-03-20T15:51:51.963009Z",
     "start_time": "2020-03-20T15:51:51.960022Z"
    }
   },
   "source": [
    "## Dummy Encode cats & mechs"
   ]
  },
  {
   "cell_type": "markdown",
   "metadata": {},
   "source": [
    "### Cats"
   ]
  },
  {
   "cell_type": "code",
   "execution_count": 8,
   "metadata": {
    "ExecuteTime": {
     "end_time": "2020-03-24T03:15:02.034467Z",
     "start_time": "2020-03-24T03:15:01.960635Z"
    }
   },
   "outputs": [
    {
     "name": "stdout",
     "output_type": "stream",
     "text": [
      "(18740, 84)\n"
     ]
    },
    {
     "data": {
      "text/html": [
       "<div>\n",
       "<style scoped>\n",
       "    .dataframe tbody tr th:only-of-type {\n",
       "        vertical-align: middle;\n",
       "    }\n",
       "\n",
       "    .dataframe tbody tr th {\n",
       "        vertical-align: top;\n",
       "    }\n",
       "\n",
       "    .dataframe thead th {\n",
       "        text-align: right;\n",
       "    }\n",
       "</style>\n",
       "<table border=\"1\" class=\"dataframe\">\n",
       "  <thead>\n",
       "    <tr style=\"text-align: right;\">\n",
       "      <th></th>\n",
       "      <th>CAT:</th>\n",
       "      <th>CAT:Abstract_Strategy</th>\n",
       "      <th>CAT:Action/Dexterity</th>\n",
       "      <th>CAT:Adventure</th>\n",
       "      <th>CAT:Age_of_Reason</th>\n",
       "      <th>CAT:American_Civil_War</th>\n",
       "      <th>CAT:American_Indian_Wars</th>\n",
       "      <th>CAT:American_Revolutionary_War</th>\n",
       "      <th>CAT:American_West</th>\n",
       "      <th>CAT:Ancient</th>\n",
       "      <th>...</th>\n",
       "      <th>CAT:Transportation</th>\n",
       "      <th>CAT:Travel</th>\n",
       "      <th>CAT:Trivia</th>\n",
       "      <th>CAT:Video_Game_Theme</th>\n",
       "      <th>CAT:Vietnam_War</th>\n",
       "      <th>CAT:Wargame</th>\n",
       "      <th>CAT:Word_Game</th>\n",
       "      <th>CAT:World_War_I</th>\n",
       "      <th>CAT:World_War_II</th>\n",
       "      <th>CAT:Zombies</th>\n",
       "    </tr>\n",
       "  </thead>\n",
       "  <tbody>\n",
       "    <tr>\n",
       "      <th>0</th>\n",
       "      <td>0</td>\n",
       "      <td>0</td>\n",
       "      <td>0</td>\n",
       "      <td>1</td>\n",
       "      <td>0</td>\n",
       "      <td>0</td>\n",
       "      <td>0</td>\n",
       "      <td>0</td>\n",
       "      <td>0</td>\n",
       "      <td>0</td>\n",
       "      <td>...</td>\n",
       "      <td>0</td>\n",
       "      <td>0</td>\n",
       "      <td>0</td>\n",
       "      <td>0</td>\n",
       "      <td>0</td>\n",
       "      <td>0</td>\n",
       "      <td>0</td>\n",
       "      <td>0</td>\n",
       "      <td>0</td>\n",
       "      <td>0</td>\n",
       "    </tr>\n",
       "    <tr>\n",
       "      <th>1</th>\n",
       "      <td>0</td>\n",
       "      <td>0</td>\n",
       "      <td>0</td>\n",
       "      <td>0</td>\n",
       "      <td>0</td>\n",
       "      <td>0</td>\n",
       "      <td>0</td>\n",
       "      <td>0</td>\n",
       "      <td>0</td>\n",
       "      <td>0</td>\n",
       "      <td>...</td>\n",
       "      <td>0</td>\n",
       "      <td>0</td>\n",
       "      <td>0</td>\n",
       "      <td>0</td>\n",
       "      <td>0</td>\n",
       "      <td>0</td>\n",
       "      <td>0</td>\n",
       "      <td>0</td>\n",
       "      <td>0</td>\n",
       "      <td>0</td>\n",
       "    </tr>\n",
       "    <tr>\n",
       "      <th>2</th>\n",
       "      <td>0</td>\n",
       "      <td>0</td>\n",
       "      <td>0</td>\n",
       "      <td>0</td>\n",
       "      <td>0</td>\n",
       "      <td>0</td>\n",
       "      <td>0</td>\n",
       "      <td>0</td>\n",
       "      <td>0</td>\n",
       "      <td>0</td>\n",
       "      <td>...</td>\n",
       "      <td>0</td>\n",
       "      <td>0</td>\n",
       "      <td>0</td>\n",
       "      <td>0</td>\n",
       "      <td>0</td>\n",
       "      <td>0</td>\n",
       "      <td>0</td>\n",
       "      <td>0</td>\n",
       "      <td>0</td>\n",
       "      <td>0</td>\n",
       "    </tr>\n",
       "    <tr>\n",
       "      <th>3</th>\n",
       "      <td>0</td>\n",
       "      <td>0</td>\n",
       "      <td>0</td>\n",
       "      <td>0</td>\n",
       "      <td>0</td>\n",
       "      <td>0</td>\n",
       "      <td>0</td>\n",
       "      <td>0</td>\n",
       "      <td>0</td>\n",
       "      <td>0</td>\n",
       "      <td>...</td>\n",
       "      <td>1</td>\n",
       "      <td>0</td>\n",
       "      <td>0</td>\n",
       "      <td>0</td>\n",
       "      <td>0</td>\n",
       "      <td>0</td>\n",
       "      <td>0</td>\n",
       "      <td>0</td>\n",
       "      <td>0</td>\n",
       "      <td>0</td>\n",
       "    </tr>\n",
       "    <tr>\n",
       "      <th>4</th>\n",
       "      <td>0</td>\n",
       "      <td>0</td>\n",
       "      <td>0</td>\n",
       "      <td>0</td>\n",
       "      <td>0</td>\n",
       "      <td>0</td>\n",
       "      <td>0</td>\n",
       "      <td>0</td>\n",
       "      <td>0</td>\n",
       "      <td>0</td>\n",
       "      <td>...</td>\n",
       "      <td>0</td>\n",
       "      <td>0</td>\n",
       "      <td>0</td>\n",
       "      <td>0</td>\n",
       "      <td>0</td>\n",
       "      <td>0</td>\n",
       "      <td>0</td>\n",
       "      <td>0</td>\n",
       "      <td>0</td>\n",
       "      <td>0</td>\n",
       "    </tr>\n",
       "  </tbody>\n",
       "</table>\n",
       "<p>5 rows × 84 columns</p>\n",
       "</div>"
      ],
      "text/plain": [
       "   CAT:  CAT:Abstract_Strategy  CAT:Action/Dexterity  CAT:Adventure  \\\n",
       "0     0                      0                     0              1   \n",
       "1     0                      0                     0              0   \n",
       "2     0                      0                     0              0   \n",
       "3     0                      0                     0              0   \n",
       "4     0                      0                     0              0   \n",
       "\n",
       "   CAT:Age_of_Reason  CAT:American_Civil_War  CAT:American_Indian_Wars  \\\n",
       "0                  0                       0                         0   \n",
       "1                  0                       0                         0   \n",
       "2                  0                       0                         0   \n",
       "3                  0                       0                         0   \n",
       "4                  0                       0                         0   \n",
       "\n",
       "   CAT:American_Revolutionary_War  CAT:American_West  CAT:Ancient  ...  \\\n",
       "0                               0                  0            0  ...   \n",
       "1                               0                  0            0  ...   \n",
       "2                               0                  0            0  ...   \n",
       "3                               0                  0            0  ...   \n",
       "4                               0                  0            0  ...   \n",
       "\n",
       "   CAT:Transportation  CAT:Travel  CAT:Trivia  CAT:Video_Game_Theme  \\\n",
       "0                   0           0           0                     0   \n",
       "1                   0           0           0                     0   \n",
       "2                   0           0           0                     0   \n",
       "3                   1           0           0                     0   \n",
       "4                   0           0           0                     0   \n",
       "\n",
       "   CAT:Vietnam_War  CAT:Wargame  CAT:Word_Game  CAT:World_War_I  \\\n",
       "0                0            0              0                0   \n",
       "1                0            0              0                0   \n",
       "2                0            0              0                0   \n",
       "3                0            0              0                0   \n",
       "4                0            0              0                0   \n",
       "\n",
       "   CAT:World_War_II  CAT:Zombies  \n",
       "0                 0            0  \n",
       "1                 0            0  \n",
       "2                 0            0  \n",
       "3                 0            0  \n",
       "4                 0            0  \n",
       "\n",
       "[5 rows x 84 columns]"
      ]
     },
     "execution_count": 8,
     "metadata": {},
     "output_type": "execute_result"
    }
   ],
   "source": [
    "mlb = MultiLabelBinarizer()\n",
    "temp_cats = mlb.fit_transform(df.boardgamecategorys.apply(lambda x: (\n",
    "    x[1:-1]\n",
    "    .replace(\"'\", '')\n",
    "    .replace('\"', '')\n",
    "    .replace(', ', ',')\n",
    "    .replace(' / ', '/')\n",
    "    .replace(' ', '_')\n",
    "    .split(',')\n",
    ")))\n",
    "temp_cats = pd.DataFrame(temp_cats, columns=mlb.classes_).add_prefix('CAT:')\n",
    "\n",
    "print(temp_cats.shape)\n",
    "temp_cats.head()"
   ]
  },
  {
   "cell_type": "code",
   "execution_count": 9,
   "metadata": {
    "ExecuteTime": {
     "end_time": "2020-03-24T03:15:02.045410Z",
     "start_time": "2020-03-24T03:15:02.035435Z"
    }
   },
   "outputs": [
    {
     "data": {
      "text/plain": [
       "['CAT:',\n",
       " 'CAT:Abstract_Strategy',\n",
       " 'CAT:Action/Dexterity',\n",
       " 'CAT:Adventure',\n",
       " 'CAT:Age_of_Reason']"
      ]
     },
     "metadata": {},
     "output_type": "display_data"
    },
    {
     "name": "stdout",
     "output_type": "stream",
     "text": [
      "84\n"
     ]
    },
    {
     "data": {
      "text/plain": [
       "CAT:Card_Game                  5439\n",
       "CAT:Wargame                    3402\n",
       "CAT:Fantasy                    2268\n",
       "CAT:Party_Game                 1668\n",
       "CAT:Dice                       1612\n",
       "                               ... \n",
       "CAT:Vietnam_War                  51\n",
       "CAT:American_Indian_Wars         35\n",
       "CAT:Game_System                  26\n",
       "CAT:Korean_War                   20\n",
       "CAT:Expansion_for_Base-game      20\n",
       "Length: 84, dtype: int64"
      ]
     },
     "execution_count": 9,
     "metadata": {},
     "output_type": "execute_result"
    }
   ],
   "source": [
    "cat_features = list(temp_cats.columns)\n",
    "display(cat_features[:5])\n",
    "print(len(cat_features))\n",
    "temp_cats.sum().sort_values(ascending=False)"
   ]
  },
  {
   "cell_type": "code",
   "execution_count": 10,
   "metadata": {
    "ExecuteTime": {
     "end_time": "2020-03-24T03:15:02.053387Z",
     "start_time": "2020-03-24T03:15:02.046406Z"
    }
   },
   "outputs": [
    {
     "data": {
      "text/plain": [
       "['CAT:Card_Game',\n",
       " 'CAT:Wargame',\n",
       " 'CAT:Fantasy',\n",
       " 'CAT:Party_Game',\n",
       " 'CAT:Dice',\n",
       " 'CAT:Fighting',\n",
       " 'CAT:Science_Fiction',\n",
       " 'CAT:Childrens_Game',\n",
       " 'CAT:Abstract_Strategy',\n",
       " 'CAT:Economic']"
      ]
     },
     "execution_count": 10,
     "metadata": {},
     "output_type": "execute_result"
    }
   ],
   "source": [
    "top_10_cats = list(temp_cats.sum().sort_values(ascending=False).index[:10])\n",
    "\n",
    "top_10_cats"
   ]
  },
  {
   "cell_type": "code",
   "execution_count": 11,
   "metadata": {
    "ExecuteTime": {
     "end_time": "2020-03-24T03:15:02.068373Z",
     "start_time": "2020-03-24T03:15:02.054384Z"
    }
   },
   "outputs": [
    {
     "data": {
      "text/plain": [
       "CAT:Card_Game                 29.023479\n",
       "CAT:Wargame                   18.153682\n",
       "CAT:Fantasy                   12.102455\n",
       "CAT:Party_Game                 8.900747\n",
       "CAT:Dice                       8.601921\n",
       "CAT:Fighting                   7.774813\n",
       "CAT:Science_Fiction            7.716115\n",
       "CAT:Childrens_Game             7.475987\n",
       "CAT:Abstract_Strategy          7.203842\n",
       "CAT:Economic                   7.043757\n",
       "CAT:World_War_II               5.928495\n",
       "CAT:Animals                    5.891142\n",
       "CAT:Bluffing                   5.827108\n",
       "CAT:Humor                      5.538954\n",
       "CAT:Adventure                  5.213447\n",
       "CAT:Action/Dexterity           5.122732\n",
       "CAT:Deduction                  5.106724\n",
       "CAT:Miniatures                 4.845251\n",
       "CAT:Movies/TV/Radio_theme      4.823906\n",
       "CAT:Medieval                   4.626467\n",
       "CAT:Exploration                3.996798\n",
       "CAT:Ancient                    3.505870\n",
       "CAT:Real-time                  3.415155\n",
       "CAT:Racing                     3.281750\n",
       "CAT:Negotiation                3.169691\n",
       "CAT:Horror                     3.121665\n",
       "CAT:Nautical                   2.913554\n",
       "CAT:Trivia                     2.726788\n",
       "CAT:Puzzle                     2.684098\n",
       "CAT:Memory                     2.502668\n",
       "CAT:City_Building              2.454642\n",
       "CAT:Sports                     2.390608\n",
       "CAT:Print_&_Play               2.353255\n",
       "CAT:Political                  2.331910\n",
       "CAT:Novel-based                2.294557\n",
       "CAT:Territory_Building         2.257204\n",
       "CAT:Educational                2.241195\n",
       "CAT:Word_Game                  2.193170\n",
       "CAT:Transportation             1.819637\n",
       "CAT:Collectible_Components     1.728922\n",
       "CAT:Modern_Warfare             1.686233\n",
       "CAT:Mythology                  1.680896\n",
       "CAT:Trains                     1.675560\n",
       "CAT:Civilization               1.638207\n",
       "CAT:Pirates                    1.616862\n",
       "CAT:Napoleonic                 1.515475\n",
       "CAT:Comic_Book/Strip           1.515475\n",
       "CAT:Video_Game_Theme           1.494130\n",
       "CAT:Murder/Mystery             1.408751\n",
       "CAT:                           1.360726\n",
       "dtype: float64"
      ]
     },
     "execution_count": 11,
     "metadata": {},
     "output_type": "execute_result"
    }
   ],
   "source": [
    "((temp_cats.sum() / len(temp_cats)) * 100).sort_values(ascending=False).head(50)"
   ]
  },
  {
   "cell_type": "code",
   "execution_count": 12,
   "metadata": {
    "ExecuteTime": {
     "end_time": "2020-03-24T03:15:02.089316Z",
     "start_time": "2020-03-24T03:15:02.069344Z"
    }
   },
   "outputs": [
    {
     "data": {
      "text/html": [
       "<div>\n",
       "<style scoped>\n",
       "    .dataframe tbody tr th:only-of-type {\n",
       "        vertical-align: middle;\n",
       "    }\n",
       "\n",
       "    .dataframe tbody tr th {\n",
       "        vertical-align: top;\n",
       "    }\n",
       "\n",
       "    .dataframe thead th {\n",
       "        text-align: right;\n",
       "    }\n",
       "</style>\n",
       "<table border=\"1\" class=\"dataframe\">\n",
       "  <thead>\n",
       "    <tr style=\"text-align: right;\">\n",
       "      <th></th>\n",
       "      <th>name</th>\n",
       "      <th>description</th>\n",
       "      <th>boardgamecategorys</th>\n",
       "      <th>boardgamemechanics</th>\n",
       "      <th>game_id</th>\n",
       "      <th>CAT:</th>\n",
       "      <th>CAT:Abstract_Strategy</th>\n",
       "      <th>CAT:Action/Dexterity</th>\n",
       "      <th>CAT:Adventure</th>\n",
       "      <th>CAT:Age_of_Reason</th>\n",
       "      <th>...</th>\n",
       "      <th>CAT:Transportation</th>\n",
       "      <th>CAT:Travel</th>\n",
       "      <th>CAT:Trivia</th>\n",
       "      <th>CAT:Video_Game_Theme</th>\n",
       "      <th>CAT:Vietnam_War</th>\n",
       "      <th>CAT:Wargame</th>\n",
       "      <th>CAT:Word_Game</th>\n",
       "      <th>CAT:World_War_I</th>\n",
       "      <th>CAT:World_War_II</th>\n",
       "      <th>CAT:Zombies</th>\n",
       "    </tr>\n",
       "  </thead>\n",
       "  <tbody>\n",
       "    <tr>\n",
       "      <th>0</th>\n",
       "      <td>Gloomhaven</td>\n",
       "      <td>Gloomhaven  is a game of Euro-inspired tactica...</td>\n",
       "      <td>['Adventure', 'Exploration', 'Fantasy', 'Fight...</td>\n",
       "      <td>['Action Retrieval', 'Campaign / Battle Card D...</td>\n",
       "      <td>174430</td>\n",
       "      <td>0</td>\n",
       "      <td>0</td>\n",
       "      <td>0</td>\n",
       "      <td>1</td>\n",
       "      <td>0</td>\n",
       "      <td>...</td>\n",
       "      <td>0</td>\n",
       "      <td>0</td>\n",
       "      <td>0</td>\n",
       "      <td>0</td>\n",
       "      <td>0</td>\n",
       "      <td>0</td>\n",
       "      <td>0</td>\n",
       "      <td>0</td>\n",
       "      <td>0</td>\n",
       "      <td>0</td>\n",
       "    </tr>\n",
       "    <tr>\n",
       "      <th>1</th>\n",
       "      <td>Pandemic Legacy: Season 1</td>\n",
       "      <td>Pandemic Legacy is a co-operative campaign gam...</td>\n",
       "      <td>['Environmental', 'Medical']</td>\n",
       "      <td>['Action Points', 'Cooperative Game', 'Hand Ma...</td>\n",
       "      <td>161936</td>\n",
       "      <td>0</td>\n",
       "      <td>0</td>\n",
       "      <td>0</td>\n",
       "      <td>0</td>\n",
       "      <td>0</td>\n",
       "      <td>...</td>\n",
       "      <td>0</td>\n",
       "      <td>0</td>\n",
       "      <td>0</td>\n",
       "      <td>0</td>\n",
       "      <td>0</td>\n",
       "      <td>0</td>\n",
       "      <td>0</td>\n",
       "      <td>0</td>\n",
       "      <td>0</td>\n",
       "      <td>0</td>\n",
       "    </tr>\n",
       "    <tr>\n",
       "      <th>2</th>\n",
       "      <td>Terraforming Mars</td>\n",
       "      <td>In the 2400s, mankind begins to terraform the ...</td>\n",
       "      <td>['Economic', 'Environmental', 'Industry / Manu...</td>\n",
       "      <td>['Card Drafting', 'End Game Bonuses', 'Hand Ma...</td>\n",
       "      <td>167791</td>\n",
       "      <td>0</td>\n",
       "      <td>0</td>\n",
       "      <td>0</td>\n",
       "      <td>0</td>\n",
       "      <td>0</td>\n",
       "      <td>...</td>\n",
       "      <td>0</td>\n",
       "      <td>0</td>\n",
       "      <td>0</td>\n",
       "      <td>0</td>\n",
       "      <td>0</td>\n",
       "      <td>0</td>\n",
       "      <td>0</td>\n",
       "      <td>0</td>\n",
       "      <td>0</td>\n",
       "      <td>0</td>\n",
       "    </tr>\n",
       "    <tr>\n",
       "      <th>3</th>\n",
       "      <td>Brass: Birmingham</td>\n",
       "      <td>Brass: Birmingham is an economic strategy game...</td>\n",
       "      <td>['Economic', 'Industry / Manufacturing', 'Tran...</td>\n",
       "      <td>['Connections', 'Hand Management', 'Income', '...</td>\n",
       "      <td>224517</td>\n",
       "      <td>0</td>\n",
       "      <td>0</td>\n",
       "      <td>0</td>\n",
       "      <td>0</td>\n",
       "      <td>0</td>\n",
       "      <td>...</td>\n",
       "      <td>1</td>\n",
       "      <td>0</td>\n",
       "      <td>0</td>\n",
       "      <td>0</td>\n",
       "      <td>0</td>\n",
       "      <td>0</td>\n",
       "      <td>0</td>\n",
       "      <td>0</td>\n",
       "      <td>0</td>\n",
       "      <td>0</td>\n",
       "    </tr>\n",
       "    <tr>\n",
       "      <th>4</th>\n",
       "      <td>Through the Ages: A New Story of Civilization</td>\n",
       "      <td>Through the Ages: A New Story of Civilization ...</td>\n",
       "      <td>['Card Game', 'Civilization', 'Economic']</td>\n",
       "      <td>['Action Points', 'Auction/Bidding', 'Auction:...</td>\n",
       "      <td>182028</td>\n",
       "      <td>0</td>\n",
       "      <td>0</td>\n",
       "      <td>0</td>\n",
       "      <td>0</td>\n",
       "      <td>0</td>\n",
       "      <td>...</td>\n",
       "      <td>0</td>\n",
       "      <td>0</td>\n",
       "      <td>0</td>\n",
       "      <td>0</td>\n",
       "      <td>0</td>\n",
       "      <td>0</td>\n",
       "      <td>0</td>\n",
       "      <td>0</td>\n",
       "      <td>0</td>\n",
       "      <td>0</td>\n",
       "    </tr>\n",
       "  </tbody>\n",
       "</table>\n",
       "<p>5 rows × 89 columns</p>\n",
       "</div>"
      ],
      "text/plain": [
       "                                            name  \\\n",
       "0                                     Gloomhaven   \n",
       "1                      Pandemic Legacy: Season 1   \n",
       "2                              Terraforming Mars   \n",
       "3                              Brass: Birmingham   \n",
       "4  Through the Ages: A New Story of Civilization   \n",
       "\n",
       "                                         description  \\\n",
       "0  Gloomhaven  is a game of Euro-inspired tactica...   \n",
       "1  Pandemic Legacy is a co-operative campaign gam...   \n",
       "2  In the 2400s, mankind begins to terraform the ...   \n",
       "3  Brass: Birmingham is an economic strategy game...   \n",
       "4  Through the Ages: A New Story of Civilization ...   \n",
       "\n",
       "                                  boardgamecategorys  \\\n",
       "0  ['Adventure', 'Exploration', 'Fantasy', 'Fight...   \n",
       "1                       ['Environmental', 'Medical']   \n",
       "2  ['Economic', 'Environmental', 'Industry / Manu...   \n",
       "3  ['Economic', 'Industry / Manufacturing', 'Tran...   \n",
       "4          ['Card Game', 'Civilization', 'Economic']   \n",
       "\n",
       "                                  boardgamemechanics  game_id  CAT:  \\\n",
       "0  ['Action Retrieval', 'Campaign / Battle Card D...   174430     0   \n",
       "1  ['Action Points', 'Cooperative Game', 'Hand Ma...   161936     0   \n",
       "2  ['Card Drafting', 'End Game Bonuses', 'Hand Ma...   167791     0   \n",
       "3  ['Connections', 'Hand Management', 'Income', '...   224517     0   \n",
       "4  ['Action Points', 'Auction/Bidding', 'Auction:...   182028     0   \n",
       "\n",
       "   CAT:Abstract_Strategy  CAT:Action/Dexterity  CAT:Adventure  \\\n",
       "0                      0                     0              1   \n",
       "1                      0                     0              0   \n",
       "2                      0                     0              0   \n",
       "3                      0                     0              0   \n",
       "4                      0                     0              0   \n",
       "\n",
       "   CAT:Age_of_Reason  ...  CAT:Transportation  CAT:Travel  CAT:Trivia  \\\n",
       "0                  0  ...                   0           0           0   \n",
       "1                  0  ...                   0           0           0   \n",
       "2                  0  ...                   0           0           0   \n",
       "3                  0  ...                   1           0           0   \n",
       "4                  0  ...                   0           0           0   \n",
       "\n",
       "   CAT:Video_Game_Theme  CAT:Vietnam_War  CAT:Wargame  CAT:Word_Game  \\\n",
       "0                     0                0            0              0   \n",
       "1                     0                0            0              0   \n",
       "2                     0                0            0              0   \n",
       "3                     0                0            0              0   \n",
       "4                     0                0            0              0   \n",
       "\n",
       "   CAT:World_War_I  CAT:World_War_II  CAT:Zombies  \n",
       "0                0                 0            0  \n",
       "1                0                 0            0  \n",
       "2                0                 0            0  \n",
       "3                0                 0            0  \n",
       "4                0                 0            0  \n",
       "\n",
       "[5 rows x 89 columns]"
      ]
     },
     "execution_count": 12,
     "metadata": {},
     "output_type": "execute_result"
    }
   ],
   "source": [
    "df_mod = pd.concat([df, temp_cats], axis=1)\n",
    "df_mod.head()"
   ]
  },
  {
   "cell_type": "markdown",
   "metadata": {},
   "source": [
    "### Mechs"
   ]
  },
  {
   "cell_type": "code",
   "execution_count": 13,
   "metadata": {
    "ExecuteTime": {
     "end_time": "2020-03-24T03:15:02.177081Z",
     "start_time": "2020-03-24T03:15:02.090289Z"
    }
   },
   "outputs": [
    {
     "name": "stdout",
     "output_type": "stream",
     "text": [
      "(18740, 177)\n"
     ]
    },
    {
     "data": {
      "text/html": [
       "<div>\n",
       "<style scoped>\n",
       "    .dataframe tbody tr th:only-of-type {\n",
       "        vertical-align: middle;\n",
       "    }\n",
       "\n",
       "    .dataframe tbody tr th {\n",
       "        vertical-align: top;\n",
       "    }\n",
       "\n",
       "    .dataframe thead th {\n",
       "        text-align: right;\n",
       "    }\n",
       "</style>\n",
       "<table border=\"1\" class=\"dataframe\">\n",
       "  <thead>\n",
       "    <tr style=\"text-align: right;\">\n",
       "      <th></th>\n",
       "      <th>mech:</th>\n",
       "      <th>mech:Acting</th>\n",
       "      <th>mech:Action/Event</th>\n",
       "      <th>mech:Action_Drafting</th>\n",
       "      <th>mech:Action_Points</th>\n",
       "      <th>mech:Action_Queue</th>\n",
       "      <th>mech:Action_Retrieval</th>\n",
       "      <th>mech:Action_Timer</th>\n",
       "      <th>mech:Advantage_Token</th>\n",
       "      <th>mech:Alliances</th>\n",
       "      <th>...</th>\n",
       "      <th>mech:Variable_Phase_Order</th>\n",
       "      <th>mech:Variable_Player_Powers</th>\n",
       "      <th>mech:Variable_Setup</th>\n",
       "      <th>mech:Victory_Points_as_a_Resource</th>\n",
       "      <th>mech:Voting</th>\n",
       "      <th>mech:Worker_Placement</th>\n",
       "      <th>mech:Worker_Placement_with_Dice_Workers</th>\n",
       "      <th>mech:You_Choose</th>\n",
       "      <th>mech:Zone_of_Control</th>\n",
       "      <th>mech:and_Pool_Building</th>\n",
       "    </tr>\n",
       "  </thead>\n",
       "  <tbody>\n",
       "    <tr>\n",
       "      <th>0</th>\n",
       "      <td>0</td>\n",
       "      <td>0</td>\n",
       "      <td>0</td>\n",
       "      <td>0</td>\n",
       "      <td>0</td>\n",
       "      <td>0</td>\n",
       "      <td>1</td>\n",
       "      <td>0</td>\n",
       "      <td>0</td>\n",
       "      <td>0</td>\n",
       "      <td>...</td>\n",
       "      <td>0</td>\n",
       "      <td>1</td>\n",
       "      <td>0</td>\n",
       "      <td>0</td>\n",
       "      <td>0</td>\n",
       "      <td>0</td>\n",
       "      <td>0</td>\n",
       "      <td>0</td>\n",
       "      <td>0</td>\n",
       "      <td>0</td>\n",
       "    </tr>\n",
       "    <tr>\n",
       "      <th>1</th>\n",
       "      <td>0</td>\n",
       "      <td>0</td>\n",
       "      <td>0</td>\n",
       "      <td>0</td>\n",
       "      <td>1</td>\n",
       "      <td>0</td>\n",
       "      <td>0</td>\n",
       "      <td>0</td>\n",
       "      <td>0</td>\n",
       "      <td>0</td>\n",
       "      <td>...</td>\n",
       "      <td>0</td>\n",
       "      <td>1</td>\n",
       "      <td>0</td>\n",
       "      <td>0</td>\n",
       "      <td>0</td>\n",
       "      <td>0</td>\n",
       "      <td>0</td>\n",
       "      <td>0</td>\n",
       "      <td>0</td>\n",
       "      <td>0</td>\n",
       "    </tr>\n",
       "    <tr>\n",
       "      <th>2</th>\n",
       "      <td>0</td>\n",
       "      <td>0</td>\n",
       "      <td>0</td>\n",
       "      <td>0</td>\n",
       "      <td>0</td>\n",
       "      <td>0</td>\n",
       "      <td>0</td>\n",
       "      <td>0</td>\n",
       "      <td>0</td>\n",
       "      <td>0</td>\n",
       "      <td>...</td>\n",
       "      <td>0</td>\n",
       "      <td>1</td>\n",
       "      <td>0</td>\n",
       "      <td>0</td>\n",
       "      <td>0</td>\n",
       "      <td>0</td>\n",
       "      <td>0</td>\n",
       "      <td>0</td>\n",
       "      <td>0</td>\n",
       "      <td>0</td>\n",
       "    </tr>\n",
       "    <tr>\n",
       "      <th>3</th>\n",
       "      <td>0</td>\n",
       "      <td>0</td>\n",
       "      <td>0</td>\n",
       "      <td>0</td>\n",
       "      <td>0</td>\n",
       "      <td>0</td>\n",
       "      <td>0</td>\n",
       "      <td>0</td>\n",
       "      <td>0</td>\n",
       "      <td>0</td>\n",
       "      <td>...</td>\n",
       "      <td>0</td>\n",
       "      <td>0</td>\n",
       "      <td>1</td>\n",
       "      <td>0</td>\n",
       "      <td>0</td>\n",
       "      <td>0</td>\n",
       "      <td>0</td>\n",
       "      <td>0</td>\n",
       "      <td>0</td>\n",
       "      <td>0</td>\n",
       "    </tr>\n",
       "    <tr>\n",
       "      <th>4</th>\n",
       "      <td>0</td>\n",
       "      <td>0</td>\n",
       "      <td>0</td>\n",
       "      <td>0</td>\n",
       "      <td>1</td>\n",
       "      <td>0</td>\n",
       "      <td>0</td>\n",
       "      <td>0</td>\n",
       "      <td>0</td>\n",
       "      <td>0</td>\n",
       "      <td>...</td>\n",
       "      <td>0</td>\n",
       "      <td>0</td>\n",
       "      <td>0</td>\n",
       "      <td>0</td>\n",
       "      <td>0</td>\n",
       "      <td>0</td>\n",
       "      <td>0</td>\n",
       "      <td>0</td>\n",
       "      <td>0</td>\n",
       "      <td>0</td>\n",
       "    </tr>\n",
       "  </tbody>\n",
       "</table>\n",
       "<p>5 rows × 177 columns</p>\n",
       "</div>"
      ],
      "text/plain": [
       "   mech:  mech:Acting  mech:Action/Event  mech:Action_Drafting  \\\n",
       "0      0            0                  0                     0   \n",
       "1      0            0                  0                     0   \n",
       "2      0            0                  0                     0   \n",
       "3      0            0                  0                     0   \n",
       "4      0            0                  0                     0   \n",
       "\n",
       "   mech:Action_Points  mech:Action_Queue  mech:Action_Retrieval  \\\n",
       "0                   0                  0                      1   \n",
       "1                   1                  0                      0   \n",
       "2                   0                  0                      0   \n",
       "3                   0                  0                      0   \n",
       "4                   1                  0                      0   \n",
       "\n",
       "   mech:Action_Timer  mech:Advantage_Token  mech:Alliances  ...  \\\n",
       "0                  0                     0               0  ...   \n",
       "1                  0                     0               0  ...   \n",
       "2                  0                     0               0  ...   \n",
       "3                  0                     0               0  ...   \n",
       "4                  0                     0               0  ...   \n",
       "\n",
       "   mech:Variable_Phase_Order  mech:Variable_Player_Powers  \\\n",
       "0                          0                            1   \n",
       "1                          0                            1   \n",
       "2                          0                            1   \n",
       "3                          0                            0   \n",
       "4                          0                            0   \n",
       "\n",
       "   mech:Variable_Setup  mech:Victory_Points_as_a_Resource  mech:Voting  \\\n",
       "0                    0                                  0            0   \n",
       "1                    0                                  0            0   \n",
       "2                    0                                  0            0   \n",
       "3                    1                                  0            0   \n",
       "4                    0                                  0            0   \n",
       "\n",
       "   mech:Worker_Placement  mech:Worker_Placement_with_Dice_Workers  \\\n",
       "0                      0                                        0   \n",
       "1                      0                                        0   \n",
       "2                      0                                        0   \n",
       "3                      0                                        0   \n",
       "4                      0                                        0   \n",
       "\n",
       "   mech:You_Choose  mech:Zone_of_Control  mech:and_Pool_Building  \n",
       "0                0                     0                       0  \n",
       "1                0                     0                       0  \n",
       "2                0                     0                       0  \n",
       "3                0                     0                       0  \n",
       "4                0                     0                       0  \n",
       "\n",
       "[5 rows x 177 columns]"
      ]
     },
     "execution_count": 13,
     "metadata": {},
     "output_type": "execute_result"
    }
   ],
   "source": [
    "mlb = MultiLabelBinarizer()\n",
    "temp_mechs = mlb.fit_transform(df.boardgamemechanics.apply(lambda x: (\n",
    "    x[1:-1]\n",
    "    .replace(\"'\", '')\n",
    "    .replace('\"', '')\n",
    "    .replace(', ', ',')\n",
    "    .replace(' / ', '/')\n",
    "    .replace(' ', '_')\n",
    "    .split(',')\n",
    ")))\n",
    "temp_mechs = pd.DataFrame(temp_mechs, columns=mlb.classes_).add_prefix('mech:')\n",
    "\n",
    "print(temp_mechs.shape)\n",
    "temp_mechs.head()"
   ]
  },
  {
   "cell_type": "code",
   "execution_count": 14,
   "metadata": {
    "ExecuteTime": {
     "end_time": "2020-03-24T03:15:02.189048Z",
     "start_time": "2020-03-24T03:15:02.178053Z"
    }
   },
   "outputs": [
    {
     "data": {
      "text/plain": [
       "['mech:',\n",
       " 'mech:Acting',\n",
       " 'mech:Action/Event',\n",
       " 'mech:Action_Drafting',\n",
       " 'mech:Action_Points']"
      ]
     },
     "metadata": {},
     "output_type": "display_data"
    },
    {
     "name": "stdout",
     "output_type": "stream",
     "text": [
      "177\n"
     ]
    },
    {
     "data": {
      "text/plain": [
       "mech:Dice_Rolling                4554\n",
       "mech:Hand_Management             3799\n",
       "mech:Set_Collection              2488\n",
       "mech:Variable_Player_Powers      2278\n",
       "mech:Hexagon_Grid                2060\n",
       "                                 ... \n",
       "mech:Relative_Movement              2\n",
       "mech:Auction:_Fixed_Placement       2\n",
       "mech:Pattern_Movement               2\n",
       "mech:Auction:_English               1\n",
       "mech:Passed_Action_Token            1\n",
       "Length: 177, dtype: int64"
      ]
     },
     "execution_count": 14,
     "metadata": {},
     "output_type": "execute_result"
    }
   ],
   "source": [
    "mech_features = list(temp_mechs.columns)\n",
    "display(mech_features[:5])\n",
    "print(len(mech_features))\n",
    "temp_mechs.sum().sort_values(ascending=False)"
   ]
  },
  {
   "cell_type": "code",
   "execution_count": 15,
   "metadata": {
    "ExecuteTime": {
     "end_time": "2020-03-24T03:15:02.199996Z",
     "start_time": "2020-03-24T03:15:02.190022Z"
    }
   },
   "outputs": [
    {
     "data": {
      "text/plain": [
       "mech:Dice_Rolling                     24.300961\n",
       "mech:Hand_Management                  20.272145\n",
       "mech:Set_Collection                   13.276414\n",
       "mech:Variable_Player_Powers           12.155816\n",
       "mech:Hexagon_Grid                     10.992529\n",
       "mech:                                  8.740662\n",
       "mech:Card_Drafting                     8.409819\n",
       "mech:Tile_Placement                    8.228388\n",
       "mech:Modular_Board                     7.844184\n",
       "mech:Area_Majority/Influence           7.321238\n",
       "mech:Roll/Spin_and_Move                6.643543\n",
       "mech:Simulation                        6.611526\n",
       "mech:Cooperative_Game                  6.264674\n",
       "mech:Simultaneous_Action_Selection     5.490928\n",
       "mech:Auction/Bidding                   5.394877\n",
       "mech:Action_Points                     5.256137\n",
       "mech:Area_Movement                     5.186766\n",
       "mech:Team-Based_Game                   4.471718\n",
       "mech:Grid_Movement                     4.466382\n",
       "mech:Take_That                         4.434365\n",
       "dtype: float64"
      ]
     },
     "execution_count": 15,
     "metadata": {},
     "output_type": "execute_result"
    }
   ],
   "source": [
    "((temp_mechs.sum() / len(temp_mechs)) * 100).sort_values(ascending=False).head(20)"
   ]
  },
  {
   "cell_type": "code",
   "execution_count": 16,
   "metadata": {
    "ExecuteTime": {
     "end_time": "2020-03-24T03:15:02.226924Z",
     "start_time": "2020-03-24T03:15:02.200993Z"
    }
   },
   "outputs": [
    {
     "data": {
      "text/html": [
       "<div>\n",
       "<style scoped>\n",
       "    .dataframe tbody tr th:only-of-type {\n",
       "        vertical-align: middle;\n",
       "    }\n",
       "\n",
       "    .dataframe tbody tr th {\n",
       "        vertical-align: top;\n",
       "    }\n",
       "\n",
       "    .dataframe thead th {\n",
       "        text-align: right;\n",
       "    }\n",
       "</style>\n",
       "<table border=\"1\" class=\"dataframe\">\n",
       "  <thead>\n",
       "    <tr style=\"text-align: right;\">\n",
       "      <th></th>\n",
       "      <th>name</th>\n",
       "      <th>description</th>\n",
       "      <th>boardgamecategorys</th>\n",
       "      <th>boardgamemechanics</th>\n",
       "      <th>game_id</th>\n",
       "      <th>CAT:</th>\n",
       "      <th>CAT:Abstract_Strategy</th>\n",
       "      <th>CAT:Action/Dexterity</th>\n",
       "      <th>CAT:Adventure</th>\n",
       "      <th>CAT:Age_of_Reason</th>\n",
       "      <th>...</th>\n",
       "      <th>mech:Variable_Phase_Order</th>\n",
       "      <th>mech:Variable_Player_Powers</th>\n",
       "      <th>mech:Variable_Setup</th>\n",
       "      <th>mech:Victory_Points_as_a_Resource</th>\n",
       "      <th>mech:Voting</th>\n",
       "      <th>mech:Worker_Placement</th>\n",
       "      <th>mech:Worker_Placement_with_Dice_Workers</th>\n",
       "      <th>mech:You_Choose</th>\n",
       "      <th>mech:Zone_of_Control</th>\n",
       "      <th>mech:and_Pool_Building</th>\n",
       "    </tr>\n",
       "  </thead>\n",
       "  <tbody>\n",
       "    <tr>\n",
       "      <th>0</th>\n",
       "      <td>Gloomhaven</td>\n",
       "      <td>Gloomhaven  is a game of Euro-inspired tactica...</td>\n",
       "      <td>['Adventure', 'Exploration', 'Fantasy', 'Fight...</td>\n",
       "      <td>['Action Retrieval', 'Campaign / Battle Card D...</td>\n",
       "      <td>174430</td>\n",
       "      <td>0</td>\n",
       "      <td>0</td>\n",
       "      <td>0</td>\n",
       "      <td>1</td>\n",
       "      <td>0</td>\n",
       "      <td>...</td>\n",
       "      <td>0</td>\n",
       "      <td>1</td>\n",
       "      <td>0</td>\n",
       "      <td>0</td>\n",
       "      <td>0</td>\n",
       "      <td>0</td>\n",
       "      <td>0</td>\n",
       "      <td>0</td>\n",
       "      <td>0</td>\n",
       "      <td>0</td>\n",
       "    </tr>\n",
       "    <tr>\n",
       "      <th>1</th>\n",
       "      <td>Pandemic Legacy: Season 1</td>\n",
       "      <td>Pandemic Legacy is a co-operative campaign gam...</td>\n",
       "      <td>['Environmental', 'Medical']</td>\n",
       "      <td>['Action Points', 'Cooperative Game', 'Hand Ma...</td>\n",
       "      <td>161936</td>\n",
       "      <td>0</td>\n",
       "      <td>0</td>\n",
       "      <td>0</td>\n",
       "      <td>0</td>\n",
       "      <td>0</td>\n",
       "      <td>...</td>\n",
       "      <td>0</td>\n",
       "      <td>1</td>\n",
       "      <td>0</td>\n",
       "      <td>0</td>\n",
       "      <td>0</td>\n",
       "      <td>0</td>\n",
       "      <td>0</td>\n",
       "      <td>0</td>\n",
       "      <td>0</td>\n",
       "      <td>0</td>\n",
       "    </tr>\n",
       "    <tr>\n",
       "      <th>2</th>\n",
       "      <td>Terraforming Mars</td>\n",
       "      <td>In the 2400s, mankind begins to terraform the ...</td>\n",
       "      <td>['Economic', 'Environmental', 'Industry / Manu...</td>\n",
       "      <td>['Card Drafting', 'End Game Bonuses', 'Hand Ma...</td>\n",
       "      <td>167791</td>\n",
       "      <td>0</td>\n",
       "      <td>0</td>\n",
       "      <td>0</td>\n",
       "      <td>0</td>\n",
       "      <td>0</td>\n",
       "      <td>...</td>\n",
       "      <td>0</td>\n",
       "      <td>1</td>\n",
       "      <td>0</td>\n",
       "      <td>0</td>\n",
       "      <td>0</td>\n",
       "      <td>0</td>\n",
       "      <td>0</td>\n",
       "      <td>0</td>\n",
       "      <td>0</td>\n",
       "      <td>0</td>\n",
       "    </tr>\n",
       "    <tr>\n",
       "      <th>3</th>\n",
       "      <td>Brass: Birmingham</td>\n",
       "      <td>Brass: Birmingham is an economic strategy game...</td>\n",
       "      <td>['Economic', 'Industry / Manufacturing', 'Tran...</td>\n",
       "      <td>['Connections', 'Hand Management', 'Income', '...</td>\n",
       "      <td>224517</td>\n",
       "      <td>0</td>\n",
       "      <td>0</td>\n",
       "      <td>0</td>\n",
       "      <td>0</td>\n",
       "      <td>0</td>\n",
       "      <td>...</td>\n",
       "      <td>0</td>\n",
       "      <td>0</td>\n",
       "      <td>1</td>\n",
       "      <td>0</td>\n",
       "      <td>0</td>\n",
       "      <td>0</td>\n",
       "      <td>0</td>\n",
       "      <td>0</td>\n",
       "      <td>0</td>\n",
       "      <td>0</td>\n",
       "    </tr>\n",
       "    <tr>\n",
       "      <th>4</th>\n",
       "      <td>Through the Ages: A New Story of Civilization</td>\n",
       "      <td>Through the Ages: A New Story of Civilization ...</td>\n",
       "      <td>['Card Game', 'Civilization', 'Economic']</td>\n",
       "      <td>['Action Points', 'Auction/Bidding', 'Auction:...</td>\n",
       "      <td>182028</td>\n",
       "      <td>0</td>\n",
       "      <td>0</td>\n",
       "      <td>0</td>\n",
       "      <td>0</td>\n",
       "      <td>0</td>\n",
       "      <td>...</td>\n",
       "      <td>0</td>\n",
       "      <td>0</td>\n",
       "      <td>0</td>\n",
       "      <td>0</td>\n",
       "      <td>0</td>\n",
       "      <td>0</td>\n",
       "      <td>0</td>\n",
       "      <td>0</td>\n",
       "      <td>0</td>\n",
       "      <td>0</td>\n",
       "    </tr>\n",
       "  </tbody>\n",
       "</table>\n",
       "<p>5 rows × 266 columns</p>\n",
       "</div>"
      ],
      "text/plain": [
       "                                            name  \\\n",
       "0                                     Gloomhaven   \n",
       "1                      Pandemic Legacy: Season 1   \n",
       "2                              Terraforming Mars   \n",
       "3                              Brass: Birmingham   \n",
       "4  Through the Ages: A New Story of Civilization   \n",
       "\n",
       "                                         description  \\\n",
       "0  Gloomhaven  is a game of Euro-inspired tactica...   \n",
       "1  Pandemic Legacy is a co-operative campaign gam...   \n",
       "2  In the 2400s, mankind begins to terraform the ...   \n",
       "3  Brass: Birmingham is an economic strategy game...   \n",
       "4  Through the Ages: A New Story of Civilization ...   \n",
       "\n",
       "                                  boardgamecategorys  \\\n",
       "0  ['Adventure', 'Exploration', 'Fantasy', 'Fight...   \n",
       "1                       ['Environmental', 'Medical']   \n",
       "2  ['Economic', 'Environmental', 'Industry / Manu...   \n",
       "3  ['Economic', 'Industry / Manufacturing', 'Tran...   \n",
       "4          ['Card Game', 'Civilization', 'Economic']   \n",
       "\n",
       "                                  boardgamemechanics  game_id  CAT:  \\\n",
       "0  ['Action Retrieval', 'Campaign / Battle Card D...   174430     0   \n",
       "1  ['Action Points', 'Cooperative Game', 'Hand Ma...   161936     0   \n",
       "2  ['Card Drafting', 'End Game Bonuses', 'Hand Ma...   167791     0   \n",
       "3  ['Connections', 'Hand Management', 'Income', '...   224517     0   \n",
       "4  ['Action Points', 'Auction/Bidding', 'Auction:...   182028     0   \n",
       "\n",
       "   CAT:Abstract_Strategy  CAT:Action/Dexterity  CAT:Adventure  \\\n",
       "0                      0                     0              1   \n",
       "1                      0                     0              0   \n",
       "2                      0                     0              0   \n",
       "3                      0                     0              0   \n",
       "4                      0                     0              0   \n",
       "\n",
       "   CAT:Age_of_Reason  ...  mech:Variable_Phase_Order  \\\n",
       "0                  0  ...                          0   \n",
       "1                  0  ...                          0   \n",
       "2                  0  ...                          0   \n",
       "3                  0  ...                          0   \n",
       "4                  0  ...                          0   \n",
       "\n",
       "   mech:Variable_Player_Powers  mech:Variable_Setup  \\\n",
       "0                            1                    0   \n",
       "1                            1                    0   \n",
       "2                            1                    0   \n",
       "3                            0                    1   \n",
       "4                            0                    0   \n",
       "\n",
       "   mech:Victory_Points_as_a_Resource  mech:Voting  mech:Worker_Placement  \\\n",
       "0                                  0            0                      0   \n",
       "1                                  0            0                      0   \n",
       "2                                  0            0                      0   \n",
       "3                                  0            0                      0   \n",
       "4                                  0            0                      0   \n",
       "\n",
       "   mech:Worker_Placement_with_Dice_Workers  mech:You_Choose  \\\n",
       "0                                        0                0   \n",
       "1                                        0                0   \n",
       "2                                        0                0   \n",
       "3                                        0                0   \n",
       "4                                        0                0   \n",
       "\n",
       "   mech:Zone_of_Control  mech:and_Pool_Building  \n",
       "0                     0                       0  \n",
       "1                     0                       0  \n",
       "2                     0                       0  \n",
       "3                     0                       0  \n",
       "4                     0                       0  \n",
       "\n",
       "[5 rows x 266 columns]"
      ]
     },
     "execution_count": 16,
     "metadata": {},
     "output_type": "execute_result"
    }
   ],
   "source": [
    "df_mod = pd.concat([df_mod, temp_mechs], axis=1)\n",
    "df_mod.head()"
   ]
  },
  {
   "cell_type": "code",
   "execution_count": 17,
   "metadata": {
    "ExecuteTime": {
     "end_time": "2020-03-24T03:15:02.231910Z",
     "start_time": "2020-03-24T03:15:02.227920Z"
    }
   },
   "outputs": [
    {
     "data": {
      "text/plain": [
       "'Gloomhaven  is a game of Euro-inspired tactical combat in a persistent world of shifting motives. Players will take on the role of a wandering adventurer with their own special set of skills and their own reasons for traveling to this dark corner of the world. Players must work together out of necessity to clear out menacing dungeons and forgotten ruins. In the process, they will enhance their abilities with experience and loot, discover new locations to explore and plunder, and expand an ever-branching story fueled by the decisions they make.<br/><br/>This is a game with a persistent and changing world that is ideally played over many game sessions. After a scenario, players will make decisions on what to do, which will determine how the story continues, kind of like a &ldquo;Choose Your Own Adventure&rdquo; book. Playing through a scenario is a cooperative affair where players will fight against automated monsters using an innovative card system to determine the order of play and what a player does on their turn.<br/><br/>Each turn, a player chooses two cards to play out of their hand. The number on the top card determines their initiative for the round. Each card also has a top and bottom power, and when it is a player&rsquo;s turn in the initiative order, they determine whether to use the top power of one card and the bottom power of the other, or vice-versa. Players must be careful, though, because over time they will permanently lose cards from their hands. If they take too long to clear a dungeon, they may end up exhausted and be forced to retreat.<br/><br/>'"
      ]
     },
     "execution_count": 17,
     "metadata": {},
     "output_type": "execute_result"
    }
   ],
   "source": [
    "df_mod.description.values[0]"
   ]
  },
  {
   "cell_type": "markdown",
   "metadata": {},
   "source": [
    "### Clean html text"
   ]
  },
  {
   "cell_type": "code",
   "execution_count": 18,
   "metadata": {
    "ExecuteTime": {
     "end_time": "2020-03-24T03:15:02.245896Z",
     "start_time": "2020-03-24T03:15:02.232907Z"
    }
   },
   "outputs": [],
   "source": [
    "from html.parser import HTMLParser\n",
    "\n",
    "class MLStripper(HTMLParser):\n",
    "    def __init__(self):\n",
    "        self.reset()\n",
    "        self.strict = False\n",
    "        self.convert_charrefs= True\n",
    "        self.fed = []\n",
    "    def handle_data(self, d):\n",
    "        self.fed.append(d)\n",
    "    def get_data(self):\n",
    "        return ''.join(self.fed)\n",
    "\n",
    "def strip_tags(html):\n",
    "    try:\n",
    "        s = MLStripper()\n",
    "        s.feed(html)\n",
    "        return s.get_data()\n",
    "    except:\n",
    "        print(html)"
   ]
  },
  {
   "cell_type": "code",
   "execution_count": 19,
   "metadata": {
    "ExecuteTime": {
     "end_time": "2020-03-24T03:15:03.159451Z",
     "start_time": "2020-03-24T03:15:02.246870Z"
    }
   },
   "outputs": [
    {
     "data": {
      "text/plain": [
       "'Gloomhaven  is a game of Euro-inspired tactical combat in a persistent world of shifting motives. Players will take on the role of a wandering adventurer with their own special set of skills and their own reasons for traveling to this dark corner of the world. Players must work together out of necessity to clear out menacing dungeons and forgotten ruins. In the process, they will enhance their abilities with experience and loot, discover new locations to explore and plunder, and expand an ever-branching story fueled by the decisions they make.This is a game with a persistent and changing world that is ideally played over many game sessions. After a scenario, players will make decisions on what to do, which will determine how the story continues, kind of like a “Choose Your Own Adventure” book. Playing through a scenario is a cooperative affair where players will fight against automated monsters using an innovative card system to determine the order of play and what a player does on their turn.Each turn, a player chooses two cards to play out of their hand. The number on the top card determines their initiative for the round. Each card also has a top and bottom power, and when it is a player’s turn in the initiative order, they determine whether to use the top power of one card and the bottom power of the other, or vice-versa. Players must be careful, though, because over time they will permanently lose cards from their hands. If they take too long to clear a dungeon, they may end up exhausted and be forced to retreat.'"
      ]
     },
     "execution_count": 19,
     "metadata": {},
     "output_type": "execute_result"
    }
   ],
   "source": [
    "df_mod['description'] = df_mod.description.fillna('').apply(lambda x: strip_tags(x))\n",
    "df_mod.description.values[0]"
   ]
  },
  {
   "cell_type": "markdown",
   "metadata": {},
   "source": [
    "## Save Data"
   ]
  },
  {
   "cell_type": "code",
   "execution_count": 20,
   "metadata": {
    "ExecuteTime": {
     "end_time": "2020-03-24T03:15:03.962412Z",
     "start_time": "2020-03-24T03:15:03.160428Z"
    }
   },
   "outputs": [],
   "source": [
    "df_mod.to_csv('../data/bgg_data_mod.csv')"
   ]
  },
  {
   "cell_type": "markdown",
   "metadata": {},
   "source": [
    "# BERT Multi-label Classification"
   ]
  },
  {
   "cell_type": "markdown",
   "metadata": {},
   "source": [
    "Ref: https://github.com/kaushaltrivedi/fast-bert"
   ]
  },
  {
   "cell_type": "code",
   "execution_count": 21,
   "metadata": {
    "ExecuteTime": {
     "end_time": "2020-03-24T03:15:06.677263Z",
     "start_time": "2020-03-24T03:15:03.963280Z"
    }
   },
   "outputs": [],
   "source": [
    "from transformers import BertTokenizer\n",
    "from pathlib import Path\n",
    "import torch\n",
    "\n",
    "from box import Box\n",
    "import pandas as pd\n",
    "import collections\n",
    "import os\n",
    "from tqdm import tqdm, trange\n",
    "import sys\n",
    "import random\n",
    "import numpy as np\n",
    "import apex\n",
    "from sklearn.model_selection import train_test_split\n",
    "\n",
    "import datetime\n",
    "\n",
    "from fast_bert.modeling import BertForMultiLabelSequenceClassification\n",
    "from fast_bert.data_cls import BertDataBunch, InputExample, InputFeatures, MultiLabelTextProcessor, convert_examples_to_features\n",
    "from fast_bert.learner_cls import BertLearner\n",
    "from fast_bert.metrics import accuracy_multilabel, accuracy_thresh, fbeta, roc_auc"
   ]
  },
  {
   "cell_type": "code",
   "execution_count": 22,
   "metadata": {
    "ExecuteTime": {
     "end_time": "2020-03-24T03:15:06.684221Z",
     "start_time": "2020-03-24T03:15:06.680231Z"
    }
   },
   "outputs": [],
   "source": [
    "import logging\n",
    "logging.basicConfig(format='%(asctime)s - %(levelname)s - %(name)s -   %(message)s',\n",
    "                    datefmt='%m/%d/%Y %H:%M:%S',\n",
    "                    level=logging.INFO)\n",
    "logger = logging.getLogger(__name__)"
   ]
  },
  {
   "cell_type": "code",
   "execution_count": 23,
   "metadata": {
    "ExecuteTime": {
     "end_time": "2020-03-24T03:15:06.714952Z",
     "start_time": "2020-03-24T03:15:06.685218Z"
    }
   },
   "outputs": [],
   "source": [
    "DATA_PATH=Path('../data/cats')\n",
    "DATA_PATH.mkdir(exist_ok=True)\n",
    "LABEL_PATH = Path('../data/cats/labels/')\n",
    "\n",
    "PATH=Path('../data/cats/tmp')\n",
    "PATH.mkdir(exist_ok=True)\n",
    "\n",
    "MODEL_PATH=Path('../models/')\n",
    "LOG_PATH=Path('../logs/')\n",
    "MODEL_PATH.mkdir(exist_ok=True)\n",
    "\n",
    "model_state_dict = None\n",
    "\n",
    "# BERT_PRETRAINED_PATH = Path('../../bert_models/pretrained-weights/cased_L-12_H-768_A-12/')\n",
    "# BERT_PRETRAINED_PATH = Path('../../bert_models/pre_trained/uncased_L-12_H-768_A-12/')\n",
    "# BERT_PRETRAINED_PATH = Path('../../bert_fastai/pretrained-weights/uncased_L-24_H-1024_A-16/')\n",
    "BERT_PRETRAINED_PATH = Path('../../bert_fastai/pretrained-weights/uncased_L-2_H-128_A-2/')\n",
    "\n",
    "\n",
    "# FINETUNED_PATH = Path('../models/finetuned_model.bin')\n",
    "FINETUNED_PATH = None\n",
    "# model_state_dict = torch.load(FINETUNED_PATH)\n",
    "\n",
    "LOG_PATH.mkdir(exist_ok=True)\n",
    "\n",
    "OUTPUT_PATH = MODEL_PATH/'output'\n",
    "OUTPUT_PATH.mkdir(exist_ok=True)"
   ]
  },
  {
   "cell_type": "code",
   "execution_count": 24,
   "metadata": {
    "ExecuteTime": {
     "end_time": "2020-03-24T03:15:06.744144Z",
     "start_time": "2020-03-24T03:15:06.715944Z"
    }
   },
   "outputs": [],
   "source": [
    "torch.cuda.empty_cache()"
   ]
  },
  {
   "cell_type": "code",
   "execution_count": 25,
   "metadata": {
    "ExecuteTime": {
     "end_time": "2020-03-24T03:15:06.771988Z",
     "start_time": "2020-03-24T03:15:06.745140Z"
    }
   },
   "outputs": [],
   "source": [
    "args = Box({\n",
    "    \"run_text\": \"multilabel bgg comments with freezable layers\",\n",
    "    \"train_size\": -1,\n",
    "    \"val_size\": -1,\n",
    "    \"log_path\": LOG_PATH,\n",
    "    \"full_data_dir\": DATA_PATH,\n",
    "    \"data_dir\": DATA_PATH,\n",
    "    \"task_name\": \"bgg_cat_classification_lib\",\n",
    "    \"no_cuda\": False,\n",
    "    \"bert_model\": BERT_PRETRAINED_PATH,\n",
    "    \"output_dir\": OUTPUT_PATH,\n",
    "    \"max_seq_length\": 512,\n",
    "    \"do_train\": True,\n",
    "    \"do_eval\": True,\n",
    "    \"do_lower_case\": True,\n",
    "    \"train_batch_size\": 6,\n",
    "    \"eval_batch_size\": 6,\n",
    "    \"learning_rate\": 5e-5,\n",
    "    \"num_train_epochs\": 5,\n",
    "    \"warmup_proportion\": 0.0,\n",
    "    \"no_cuda\": False,\n",
    "    \"local_rank\": -1,\n",
    "    \"seed\": 42,\n",
    "    \"gradient_accumulation_steps\": 1,\n",
    "    \"optimize_on_cpu\": False,\n",
    "    \"fp16\": True,\n",
    "    \"fp16_opt_level\": \"O1\",\n",
    "    \"weight_decay\": 0.0,\n",
    "    \"adam_epsilon\": 1e-8,\n",
    "    \"max_grad_norm\": 1.0,\n",
    "    \"max_steps\": -1,\n",
    "    \"warmup_steps\": 500,\n",
    "    \"logging_steps\": 50,\n",
    "    \"eval_all_checkpoints\": True,\n",
    "    \"overwrite_output_dir\": True,\n",
    "    \"overwrite_cache\": False,\n",
    "    \"seed\": 42,\n",
    "    \"loss_scale\": 128,\n",
    "    \"task_name\": 'intent',\n",
    "    \"model_name\": 'xlnet-base-cased',\n",
    "    \"model_type\": 'xlnet'\n",
    "})"
   ]
  },
  {
   "cell_type": "code",
   "execution_count": 26,
   "metadata": {
    "ExecuteTime": {
     "end_time": "2020-03-24T03:15:06.796359Z",
     "start_time": "2020-03-24T03:15:06.772990Z"
    }
   },
   "outputs": [
    {
     "name": "stderr",
     "output_type": "stream",
     "text": [
      "03/23/2020 22:15:06 - INFO - root -   {'run_text': 'multilabel bgg comments with freezable layers', 'train_size': -1, 'val_size': -1, 'log_path': WindowsPath('../logs'), 'full_data_dir': WindowsPath('../data/cats'), 'data_dir': WindowsPath('../data/cats'), 'task_name': 'intent', 'no_cuda': False, 'bert_model': WindowsPath('../../bert_fastai/pretrained-weights/uncased_L-2_H-128_A-2'), 'output_dir': WindowsPath('../models/output'), 'max_seq_length': 512, 'do_train': True, 'do_eval': True, 'do_lower_case': True, 'train_batch_size': 6, 'eval_batch_size': 6, 'learning_rate': 5e-05, 'num_train_epochs': 5, 'warmup_proportion': 0.0, 'local_rank': -1, 'seed': 42, 'gradient_accumulation_steps': 1, 'optimize_on_cpu': False, 'fp16': True, 'fp16_opt_level': 'O1', 'weight_decay': 0.0, 'adam_epsilon': 1e-08, 'max_grad_norm': 1.0, 'max_steps': -1, 'warmup_steps': 500, 'logging_steps': 50, 'eval_all_checkpoints': True, 'overwrite_output_dir': True, 'overwrite_cache': False, 'loss_scale': 128, 'model_name': 'xlnet-base-cased', 'model_type': 'xlnet'}\n"
     ]
    }
   ],
   "source": [
    "import logging\n",
    "\n",
    "run_start_time = datetime.datetime.today().strftime('%Y-%m-%d_%H-%M-%S')\n",
    "\n",
    "logfile = str(LOG_PATH/'log-{}-{}.txt'.format(run_start_time, args[\"run_text\"]))\n",
    "\n",
    "logging.basicConfig(\n",
    "    level=logging.INFO,\n",
    "    format='%(asctime)s - %(levelname)s - %(name)s -   %(message)s',\n",
    "    datefmt='%m/%d/%Y %H:%M:%S',\n",
    "    handlers=[\n",
    "        logging.FileHandler(logfile),\n",
    "        logging.StreamHandler(sys.stdout)\n",
    "    ])\n",
    "\n",
    "logger = logging.getLogger()\n",
    "\n",
    "logger.info(args)"
   ]
  },
  {
   "cell_type": "code",
   "execution_count": 27,
   "metadata": {
    "ExecuteTime": {
     "end_time": "2020-03-24T03:15:06.843318Z",
     "start_time": "2020-03-24T03:15:06.797329Z"
    }
   },
   "outputs": [],
   "source": [
    "device = torch.device('cuda')\n",
    "if torch.cuda.device_count() > 1:\n",
    "    args.multi_gpu = True\n",
    "else:\n",
    "    args.multi_gpu = False"
   ]
  },
  {
   "cell_type": "markdown",
   "metadata": {},
   "source": [
    "## Data Prep"
   ]
  },
  {
   "cell_type": "code",
   "execution_count": 28,
   "metadata": {
    "ExecuteTime": {
     "end_time": "2020-03-24T03:15:06.876824Z",
     "start_time": "2020-03-24T03:15:06.844319Z"
    }
   },
   "outputs": [
    {
     "data": {
      "text/plain": [
       "['Card_Game',\n",
       " 'Wargame',\n",
       " 'Fantasy',\n",
       " 'Party_Game',\n",
       " 'Dice',\n",
       " 'Fighting',\n",
       " 'Science_Fiction',\n",
       " 'Childrens_Game',\n",
       " 'Abstract_Strategy',\n",
       " 'Economic']"
      ]
     },
     "execution_count": 28,
     "metadata": {},
     "output_type": "execute_result"
    }
   ],
   "source": [
    "top_10_cats_clean = [x[4:] for x in top_10_cats]\n",
    "top_10_cats_clean"
   ]
  },
  {
   "cell_type": "code",
   "execution_count": 29,
   "metadata": {
    "ExecuteTime": {
     "end_time": "2020-03-24T03:15:06.922481Z",
     "start_time": "2020-03-24T03:15:06.877714Z"
    }
   },
   "outputs": [
    {
     "name": "stdout",
     "output_type": "stream",
     "text": [
      "(15371, 12)\n"
     ]
    },
    {
     "data": {
      "text/html": [
       "<div>\n",
       "<style scoped>\n",
       "    .dataframe tbody tr th:only-of-type {\n",
       "        vertical-align: middle;\n",
       "    }\n",
       "\n",
       "    .dataframe tbody tr th {\n",
       "        vertical-align: top;\n",
       "    }\n",
       "\n",
       "    .dataframe thead th {\n",
       "        text-align: right;\n",
       "    }\n",
       "</style>\n",
       "<table border=\"1\" class=\"dataframe\">\n",
       "  <thead>\n",
       "    <tr style=\"text-align: right;\">\n",
       "      <th></th>\n",
       "      <th>game_id</th>\n",
       "      <th>description</th>\n",
       "      <th>Card_Game</th>\n",
       "      <th>Wargame</th>\n",
       "      <th>Fantasy</th>\n",
       "      <th>Party_Game</th>\n",
       "      <th>Dice</th>\n",
       "      <th>Fighting</th>\n",
       "      <th>Science_Fiction</th>\n",
       "      <th>Childrens_Game</th>\n",
       "      <th>Abstract_Strategy</th>\n",
       "      <th>Economic</th>\n",
       "    </tr>\n",
       "  </thead>\n",
       "  <tbody>\n",
       "    <tr>\n",
       "      <th>0</th>\n",
       "      <td>174430</td>\n",
       "      <td>Gloomhaven  is a game of Euro-inspired tactica...</td>\n",
       "      <td>0</td>\n",
       "      <td>0</td>\n",
       "      <td>1</td>\n",
       "      <td>0</td>\n",
       "      <td>0</td>\n",
       "      <td>1</td>\n",
       "      <td>0</td>\n",
       "      <td>0</td>\n",
       "      <td>0</td>\n",
       "      <td>0</td>\n",
       "    </tr>\n",
       "    <tr>\n",
       "      <th>2</th>\n",
       "      <td>167791</td>\n",
       "      <td>In the 2400s, mankind begins to terraform the ...</td>\n",
       "      <td>0</td>\n",
       "      <td>0</td>\n",
       "      <td>0</td>\n",
       "      <td>0</td>\n",
       "      <td>0</td>\n",
       "      <td>0</td>\n",
       "      <td>1</td>\n",
       "      <td>0</td>\n",
       "      <td>0</td>\n",
       "      <td>1</td>\n",
       "    </tr>\n",
       "    <tr>\n",
       "      <th>3</th>\n",
       "      <td>224517</td>\n",
       "      <td>Brass: Birmingham is an economic strategy game...</td>\n",
       "      <td>0</td>\n",
       "      <td>0</td>\n",
       "      <td>0</td>\n",
       "      <td>0</td>\n",
       "      <td>0</td>\n",
       "      <td>0</td>\n",
       "      <td>0</td>\n",
       "      <td>0</td>\n",
       "      <td>0</td>\n",
       "      <td>1</td>\n",
       "    </tr>\n",
       "    <tr>\n",
       "      <th>4</th>\n",
       "      <td>182028</td>\n",
       "      <td>Through the Ages: A New Story of Civilization ...</td>\n",
       "      <td>1</td>\n",
       "      <td>0</td>\n",
       "      <td>0</td>\n",
       "      <td>0</td>\n",
       "      <td>0</td>\n",
       "      <td>0</td>\n",
       "      <td>0</td>\n",
       "      <td>0</td>\n",
       "      <td>0</td>\n",
       "      <td>1</td>\n",
       "    </tr>\n",
       "    <tr>\n",
       "      <th>5</th>\n",
       "      <td>233078</td>\n",
       "      <td>Twilight Imperium (Fourth Edition) is a game o...</td>\n",
       "      <td>0</td>\n",
       "      <td>1</td>\n",
       "      <td>0</td>\n",
       "      <td>0</td>\n",
       "      <td>0</td>\n",
       "      <td>0</td>\n",
       "      <td>1</td>\n",
       "      <td>0</td>\n",
       "      <td>0</td>\n",
       "      <td>1</td>\n",
       "    </tr>\n",
       "  </tbody>\n",
       "</table>\n",
       "</div>"
      ],
      "text/plain": [
       "   game_id                                        description  Card_Game  \\\n",
       "0   174430  Gloomhaven  is a game of Euro-inspired tactica...          0   \n",
       "2   167791  In the 2400s, mankind begins to terraform the ...          0   \n",
       "3   224517  Brass: Birmingham is an economic strategy game...          0   \n",
       "4   182028  Through the Ages: A New Story of Civilization ...          1   \n",
       "5   233078  Twilight Imperium (Fourth Edition) is a game o...          0   \n",
       "\n",
       "   Wargame  Fantasy  Party_Game  Dice  Fighting  Science_Fiction  \\\n",
       "0        0        1           0     0         1                0   \n",
       "2        0        0           0     0         0                1   \n",
       "3        0        0           0     0         0                0   \n",
       "4        0        0           0     0         0                0   \n",
       "5        1        0           0     0         0                1   \n",
       "\n",
       "   Childrens_Game  Abstract_Strategy  Economic  \n",
       "0               0                  0         0  \n",
       "2               0                  0         1  \n",
       "3               0                  0         1  \n",
       "4               0                  0         1  \n",
       "5               0                  0         1  "
      ]
     },
     "execution_count": 29,
     "metadata": {},
     "output_type": "execute_result"
    }
   ],
   "source": [
    "cat_df_mod = df_mod[['game_id', 'description'] + top_10_cats].copy()\n",
    "\n",
    "# keep only popular cats\n",
    "cat_df_mod = cat_df_mod[cat_df_mod[top_10_cats].sum(axis=1) > 0]\n",
    "\n",
    "# fix CAT names\n",
    "cat_df_mod.columns = ['game_id', 'description'] + top_10_cats_clean\n",
    "\n",
    "print(cat_df_mod.shape)\n",
    "cat_df_mod.head()"
   ]
  },
  {
   "cell_type": "code",
   "execution_count": 30,
   "metadata": {
    "ExecuteTime": {
     "end_time": "2020-03-24T03:15:06.928465Z",
     "start_time": "2020-03-24T03:15:06.923452Z"
    }
   },
   "outputs": [
    {
     "data": {
      "text/plain": [
       "Card_Game            5439\n",
       "Wargame              3402\n",
       "Fantasy              2268\n",
       "Party_Game           1668\n",
       "Dice                 1612\n",
       "Fighting             1457\n",
       "Science_Fiction      1446\n",
       "Childrens_Game       1401\n",
       "Abstract_Strategy    1350\n",
       "Economic             1320\n",
       "dtype: int64"
      ]
     },
     "execution_count": 30,
     "metadata": {},
     "output_type": "execute_result"
    }
   ],
   "source": [
    "cat_df_mod[top_10_cats_clean].sum()"
   ]
  },
  {
   "cell_type": "code",
   "execution_count": 31,
   "metadata": {
    "ExecuteTime": {
     "end_time": "2020-03-24T03:15:06.954708Z",
     "start_time": "2020-03-24T03:15:06.929435Z"
    }
   },
   "outputs": [
    {
     "name": "stdout",
     "output_type": "stream",
     "text": [
      "10761 3072 1538 15371\n"
     ]
    }
   ],
   "source": [
    "cat_df_mod['rand'] = np.random.uniform(0, 1, cat_df_mod.shape[0])\n",
    "\n",
    "train_df = cat_df_mod[cat_df_mod['rand'] < .7]\n",
    "valid_df = cat_df_mod[((cat_df_mod['rand'] > .7) & (cat_df_mod['rand'] < .9))]\n",
    "test_df = cat_df_mod[cat_df_mod['rand'] > .9]\n",
    "\n",
    "print(len(train_df), len(valid_df), len(test_df), len(train_df)+ len(valid_df)+ len(test_df))"
   ]
  },
  {
   "cell_type": "code",
   "execution_count": 32,
   "metadata": {
    "ExecuteTime": {
     "end_time": "2020-03-24T03:15:07.269869Z",
     "start_time": "2020-03-24T03:15:06.955707Z"
    }
   },
   "outputs": [],
   "source": [
    "train_df.to_csv('../data/cats/train.csv')\n",
    "valid_df.to_csv('../data/cats/valid.csv')\n",
    "test_df.to_csv('../data/cats/test.csv')"
   ]
  },
  {
   "cell_type": "code",
   "execution_count": 33,
   "metadata": {
    "ExecuteTime": {
     "end_time": "2020-03-24T03:15:07.349654Z",
     "start_time": "2020-03-24T03:15:07.270864Z"
    }
   },
   "outputs": [
    {
     "name": "stderr",
     "output_type": "stream",
     "text": [
      "C:\\Users\\mwald\\Miniconda3\\envs\\py36\\lib\\site-packages\\ipykernel_launcher.py:1: SettingWithCopyWarning: \n",
      "A value is trying to be set on a copy of a slice from a DataFrame.\n",
      "Try using .loc[row_indexer,col_indexer] = value instead\n",
      "\n",
      "See the caveats in the documentation: https://pandas.pydata.org/pandas-docs/stable/user_guide/indexing.html#returning-a-view-versus-a-copy\n",
      "  \"\"\"Entry point for launching an IPython kernel.\n",
      "C:\\Users\\mwald\\Miniconda3\\envs\\py36\\lib\\site-packages\\ipykernel_launcher.py:2: SettingWithCopyWarning: \n",
      "A value is trying to be set on a copy of a slice from a DataFrame.\n",
      "Try using .loc[row_indexer,col_indexer] = value instead\n",
      "\n",
      "See the caveats in the documentation: https://pandas.pydata.org/pandas-docs/stable/user_guide/indexing.html#returning-a-view-versus-a-copy\n",
      "  \n",
      "C:\\Users\\mwald\\Miniconda3\\envs\\py36\\lib\\site-packages\\ipykernel_launcher.py:3: SettingWithCopyWarning: \n",
      "A value is trying to be set on a copy of a slice from a DataFrame.\n",
      "Try using .loc[row_indexer,col_indexer] = value instead\n",
      "\n",
      "See the caveats in the documentation: https://pandas.pydata.org/pandas-docs/stable/user_guide/indexing.html#returning-a-view-versus-a-copy\n",
      "  This is separate from the ipykernel package so we can avoid doing imports until\n"
     ]
    },
    {
     "data": {
      "text/html": [
       "<div>\n",
       "<style scoped>\n",
       "    .dataframe tbody tr th:only-of-type {\n",
       "        vertical-align: middle;\n",
       "    }\n",
       "\n",
       "    .dataframe tbody tr th {\n",
       "        vertical-align: top;\n",
       "    }\n",
       "\n",
       "    .dataframe thead th {\n",
       "        text-align: right;\n",
       "    }\n",
       "</style>\n",
       "<table border=\"1\" class=\"dataframe\">\n",
       "  <thead>\n",
       "    <tr style=\"text-align: right;\">\n",
       "      <th></th>\n",
       "      <th>game_id</th>\n",
       "      <th>description</th>\n",
       "      <th>Card_Game</th>\n",
       "      <th>Wargame</th>\n",
       "      <th>Fantasy</th>\n",
       "      <th>Party_Game</th>\n",
       "      <th>Dice</th>\n",
       "      <th>Fighting</th>\n",
       "      <th>Science_Fiction</th>\n",
       "      <th>Childrens_Game</th>\n",
       "      <th>Abstract_Strategy</th>\n",
       "      <th>Economic</th>\n",
       "      <th>rand</th>\n",
       "    </tr>\n",
       "  </thead>\n",
       "  <tbody>\n",
       "    <tr>\n",
       "      <th>0</th>\n",
       "      <td>174430</td>\n",
       "      <td>Gloomhaven  is a game of Euro-inspired tactica...</td>\n",
       "      <td>0</td>\n",
       "      <td>0</td>\n",
       "      <td>1</td>\n",
       "      <td>0</td>\n",
       "      <td>0</td>\n",
       "      <td>1</td>\n",
       "      <td>0</td>\n",
       "      <td>0</td>\n",
       "      <td>0</td>\n",
       "      <td>0</td>\n",
       "      <td>0.319428</td>\n",
       "    </tr>\n",
       "    <tr>\n",
       "      <th>2</th>\n",
       "      <td>167791</td>\n",
       "      <td>In the 2400s, mankind begins to terraform the ...</td>\n",
       "      <td>0</td>\n",
       "      <td>0</td>\n",
       "      <td>0</td>\n",
       "      <td>0</td>\n",
       "      <td>0</td>\n",
       "      <td>0</td>\n",
       "      <td>1</td>\n",
       "      <td>0</td>\n",
       "      <td>0</td>\n",
       "      <td>1</td>\n",
       "      <td>0.074314</td>\n",
       "    </tr>\n",
       "    <tr>\n",
       "      <th>6</th>\n",
       "      <td>187645</td>\n",
       "      <td>From the publisher:Star Wars: Rebellion is a b...</td>\n",
       "      <td>0</td>\n",
       "      <td>1</td>\n",
       "      <td>0</td>\n",
       "      <td>0</td>\n",
       "      <td>0</td>\n",
       "      <td>1</td>\n",
       "      <td>1</td>\n",
       "      <td>0</td>\n",
       "      <td>0</td>\n",
       "      <td>0</td>\n",
       "      <td>0.599277</td>\n",
       "    </tr>\n",
       "    <tr>\n",
       "      <th>7</th>\n",
       "      <td>12333</td>\n",
       "      <td>\"Now the trumpet summons us again, not as a ca...</td>\n",
       "      <td>0</td>\n",
       "      <td>1</td>\n",
       "      <td>0</td>\n",
       "      <td>0</td>\n",
       "      <td>0</td>\n",
       "      <td>0</td>\n",
       "      <td>0</td>\n",
       "      <td>0</td>\n",
       "      <td>0</td>\n",
       "      <td>0</td>\n",
       "      <td>0.696492</td>\n",
       "    </tr>\n",
       "    <tr>\n",
       "      <th>10</th>\n",
       "      <td>169786</td>\n",
       "      <td>It is a time of unrest in 1920s Europa. The as...</td>\n",
       "      <td>0</td>\n",
       "      <td>0</td>\n",
       "      <td>0</td>\n",
       "      <td>0</td>\n",
       "      <td>0</td>\n",
       "      <td>1</td>\n",
       "      <td>1</td>\n",
       "      <td>0</td>\n",
       "      <td>0</td>\n",
       "      <td>1</td>\n",
       "      <td>0.417969</td>\n",
       "    </tr>\n",
       "  </tbody>\n",
       "</table>\n",
       "</div>"
      ],
      "text/plain": [
       "    game_id                                        description  Card_Game  \\\n",
       "0    174430  Gloomhaven  is a game of Euro-inspired tactica...          0   \n",
       "2    167791  In the 2400s, mankind begins to terraform the ...          0   \n",
       "6    187645  From the publisher:Star Wars: Rebellion is a b...          0   \n",
       "7     12333  \"Now the trumpet summons us again, not as a ca...          0   \n",
       "10   169786  It is a time of unrest in 1920s Europa. The as...          0   \n",
       "\n",
       "    Wargame  Fantasy  Party_Game  Dice  Fighting  Science_Fiction  \\\n",
       "0         0        1           0     0         1                0   \n",
       "2         0        0           0     0         0                1   \n",
       "6         1        0           0     0         1                1   \n",
       "7         1        0           0     0         0                0   \n",
       "10        0        0           0     0         1                1   \n",
       "\n",
       "    Childrens_Game  Abstract_Strategy  Economic      rand  \n",
       "0                0                  0         0  0.319428  \n",
       "2                0                  0         1  0.074314  \n",
       "6                0                  0         0  0.599277  \n",
       "7                0                  0         0  0.696492  \n",
       "10               0                  0         1  0.417969  "
      ]
     },
     "execution_count": 33,
     "metadata": {},
     "output_type": "execute_result"
    }
   ],
   "source": [
    "train_df['description'] = train_df.description.apply(lambda x: strip_tags(x))\n",
    "valid_df['description'] = valid_df.description.apply(lambda x: strip_tags(x))\n",
    "test_df['description'] = test_df.description.apply(lambda x: strip_tags(x))\n",
    "\n",
    "train_df.head()"
   ]
  },
  {
   "cell_type": "markdown",
   "metadata": {},
   "source": [
    "### Create Label File"
   ]
  },
  {
   "cell_type": "code",
   "execution_count": 34,
   "metadata": {
    "ExecuteTime": {
     "end_time": "2020-03-24T03:15:07.354641Z",
     "start_time": "2020-03-24T03:15:07.350651Z"
    }
   },
   "outputs": [],
   "source": [
    "import csv\n",
    "\n",
    "with open('../data/cats/labels/labels.csv', 'w', newline=\"\") as myfile:\n",
    "    wr = csv.writer(myfile)\n",
    "    for x in top_10_cats:\n",
    "        wr.writerow([x[4:]])"
   ]
  },
  {
   "cell_type": "markdown",
   "metadata": {},
   "source": [
    "## Mdl Run"
   ]
  },
  {
   "cell_type": "markdown",
   "metadata": {},
   "source": [
    "The databunch object takes training, validation and test csv files and converts the data into internal representation for BERT, RoBERTa, DistilBERT or XLNet. The object also instantiates the correct data-loaders based on device profile and batch_size and max_sequence_length."
   ]
  },
  {
   "cell_type": "code",
   "execution_count": 35,
   "metadata": {
    "ExecuteTime": {
     "end_time": "2020-03-24T03:15:09.061491Z",
     "start_time": "2020-03-24T03:15:07.355638Z"
    }
   },
   "outputs": [
    {
     "name": "stderr",
     "output_type": "stream",
     "text": [
      "03/23/2020 22:15:07 - INFO - transformers.tokenization_utils -   loading file https://s3.amazonaws.com/models.huggingface.co/bert/xlnet-base-cased-spiece.model from cache at C:\\Users\\mwald\\.cache\\torch\\transformers\\dad589d582573df0293448af5109cb6981ca77239ed314e15ca63b7b8a318ddd.8b10bd978b5d01c21303cc761fc9ecd464419b3bf921864a355ba807cfbfafa8\n",
      "03/23/2020 22:15:07 - INFO - root -   Loading features from cached file ..\\data\\cats\\cache\\cached_xlnet_train_multi_label_512_train.csv\n",
      "03/23/2020 22:15:08 - INFO - root -   Loading features from cached file ..\\data\\cats\\cache\\cached_xlnet_dev_multi_label_512_valid.csv\n",
      "03/23/2020 22:15:09 - INFO - root -   Loading features from cached file ..\\data\\cats\\cache\\cached_xlnet_test_multi_label_512_test\n"
     ]
    }
   ],
   "source": [
    "databunch = BertDataBunch(args['data_dir'], LABEL_PATH, args.model_name, train_file='train.csv', val_file='valid.csv',\n",
    "                          test_data='test.csv',\n",
    "                          text_col=\"description\", label_col=top_10_cats_clean,\n",
    "                          batch_size_per_gpu=args['train_batch_size'], max_seq_length=args['max_seq_length'], \n",
    "                          multi_gpu=args.multi_gpu, multi_label=True, model_type=args.model_type)"
   ]
  },
  {
   "cell_type": "code",
   "execution_count": 36,
   "metadata": {
    "ExecuteTime": {
     "end_time": "2020-03-24T03:15:09.068451Z",
     "start_time": "2020-03-24T03:15:09.062466Z"
    }
   },
   "outputs": [
    {
     "data": {
      "text/plain": [
       "tensor([0., 0., 0., 0., 0., 0., 1., 0., 0., 1.])"
      ]
     },
     "execution_count": 36,
     "metadata": {},
     "output_type": "execute_result"
    }
   ],
   "source": [
    "databunch.train_dl.dataset[0][3]"
   ]
  },
  {
   "cell_type": "code",
   "execution_count": 37,
   "metadata": {
    "ExecuteTime": {
     "end_time": "2020-03-24T03:15:09.083415Z",
     "start_time": "2020-03-24T03:15:09.069449Z"
    }
   },
   "outputs": [],
   "source": [
    "metrics = []\n",
    "metrics.append({'name': 'accuracy_thresh', 'function': accuracy_thresh})\n",
    "metrics.append({'name': 'roc_auc', 'function': roc_auc})\n",
    "metrics.append({'name': 'fbeta', 'function': fbeta})"
   ]
  },
  {
   "cell_type": "code",
   "execution_count": 38,
   "metadata": {
    "ExecuteTime": {
     "end_time": "2020-03-24T03:15:12.744511Z",
     "start_time": "2020-03-24T03:15:09.084409Z"
    }
   },
   "outputs": [
    {
     "name": "stderr",
     "output_type": "stream",
     "text": [
      "03/23/2020 22:15:09 - INFO - transformers.configuration_utils -   loading configuration file https://s3.amazonaws.com/models.huggingface.co/bert/xlnet-base-cased-config.json from cache at C:\\Users\\mwald\\.cache\\torch\\transformers\\c9cc6e53904f7f3679a31ec4af244f4419e25ebc8e71ebf8c558a31cbcf07fc8.8df552e150a401a37ae808caf2a2c86fb6fedaa1f6963d1f21fbf3d0085c9e74\n",
      "03/23/2020 22:15:09 - INFO - transformers.configuration_utils -   Model config XLNetConfig {\n",
      "  \"architectures\": [\n",
      "    \"XLNetLMHeadModel\"\n",
      "  ],\n",
      "  \"attn_type\": \"bi\",\n",
      "  \"bi_data\": false,\n",
      "  \"bos_token_id\": null,\n",
      "  \"clamp_len\": -1,\n",
      "  \"d_head\": 64,\n",
      "  \"d_inner\": 3072,\n",
      "  \"d_model\": 768,\n",
      "  \"do_sample\": false,\n",
      "  \"dropout\": 0.1,\n",
      "  \"end_n_top\": 5,\n",
      "  \"eos_token_ids\": null,\n",
      "  \"ff_activation\": \"gelu\",\n",
      "  \"finetuning_task\": null,\n",
      "  \"id2label\": {\n",
      "    \"0\": \"LABEL_0\",\n",
      "    \"1\": \"LABEL_1\"\n",
      "  },\n",
      "  \"initializer_range\": 0.02,\n",
      "  \"is_decoder\": false,\n",
      "  \"label2id\": {\n",
      "    \"LABEL_0\": 0,\n",
      "    \"LABEL_1\": 1\n",
      "  },\n",
      "  \"layer_norm_eps\": 1e-12,\n",
      "  \"length_penalty\": 1.0,\n",
      "  \"max_length\": 20,\n",
      "  \"mem_len\": null,\n",
      "  \"model_type\": \"xlnet\",\n",
      "  \"n_head\": 12,\n",
      "  \"n_layer\": 12,\n",
      "  \"num_beams\": 1,\n",
      "  \"num_labels\": 10,\n",
      "  \"num_return_sequences\": 1,\n",
      "  \"output_attentions\": false,\n",
      "  \"output_hidden_states\": false,\n",
      "  \"output_past\": true,\n",
      "  \"pad_token_id\": null,\n",
      "  \"pruned_heads\": {},\n",
      "  \"repetition_penalty\": 1.0,\n",
      "  \"reuse_len\": null,\n",
      "  \"same_length\": false,\n",
      "  \"start_n_top\": 5,\n",
      "  \"summary_activation\": \"tanh\",\n",
      "  \"summary_last_dropout\": 0.1,\n",
      "  \"summary_type\": \"last\",\n",
      "  \"summary_use_proj\": true,\n",
      "  \"temperature\": 1.0,\n",
      "  \"top_k\": 50,\n",
      "  \"top_p\": 1.0,\n",
      "  \"torchscript\": false,\n",
      "  \"untie_r\": true,\n",
      "  \"use_bfloat16\": false,\n",
      "  \"vocab_size\": 32000\n",
      "}\n",
      "\n"
     ]
    },
    {
     "name": "stdout",
     "output_type": "stream",
     "text": [
      "xlnet-base-cased\n",
      "<class 'str'>\n"
     ]
    },
    {
     "name": "stderr",
     "output_type": "stream",
     "text": [
      "03/23/2020 22:15:09 - INFO - transformers.modeling_utils -   loading weights file https://s3.amazonaws.com/models.huggingface.co/bert/xlnet-base-cased-pytorch_model.bin from cache at C:\\Users\\mwald\\.cache\\torch\\transformers\\24197ba0ce5dbfe23924431610704c88e2c0371afa49149360e4c823219ab474.7eac4fe898a021204e63c88c00ea68c60443c57f94b4bc3c02adbde6465745ac\n",
      "03/23/2020 22:15:11 - INFO - transformers.modeling_utils -   Weights of XLNetForMultiLabelSequenceClassification not initialized from pretrained model: ['sequence_summary.summary.weight', 'sequence_summary.summary.bias', 'logits_proj.weight', 'logits_proj.bias']\n",
      "03/23/2020 22:15:11 - INFO - transformers.modeling_utils -   Weights from pretrained model not used in XLNetForMultiLabelSequenceClassification: ['lm_loss.weight', 'lm_loss.bias']\n"
     ]
    }
   ],
   "source": [
    "learner = BertLearner.from_pretrained_model(databunch, args.model_name, metrics=metrics, \n",
    "                                            device=device, logger=logger, output_dir=args.output_dir, \n",
    "                                            finetuned_wgts_path=FINETUNED_PATH, warmup_steps=args.warmup_steps,\n",
    "                                            multi_gpu=args.multi_gpu, is_fp16=args.fp16, \n",
    "                                            multi_label=True, logging_steps=0)"
   ]
  },
  {
   "cell_type": "code",
   "execution_count": 39,
   "metadata": {
    "ExecuteTime": {
     "end_time": "2020-03-24T07:29:55.565077Z",
     "start_time": "2020-03-24T03:15:12.745488Z"
    }
   },
   "outputs": [
    {
     "name": "stderr",
     "output_type": "stream",
     "text": [
      "03/23/2020 22:15:12 - INFO - root -   ***** Running training *****\n",
      "03/23/2020 22:15:12 - INFO - root -     Num examples = 10753\n",
      "03/23/2020 22:15:12 - INFO - root -     Num Epochs = 5\n",
      "03/23/2020 22:15:12 - INFO - root -     Total train batch size (w. parallel, distributed & accumulation) = 6\n",
      "03/23/2020 22:15:12 - INFO - root -     Gradient Accumulation steps = 1\n",
      "03/23/2020 22:15:12 - INFO - root -     Total optimization steps = 8965\n"
     ]
    },
    {
     "name": "stdout",
     "output_type": "stream",
     "text": [
      "Selected optimization level O1:  Insert automatic casts around Pytorch functions and Tensor methods.\n",
      "\n",
      "Defaults for this optimization level are:\n",
      "enabled                : True\n",
      "opt_level              : O1\n",
      "cast_model_type        : None\n",
      "patch_torch_functions  : True\n",
      "keep_batchnorm_fp32    : None\n",
      "master_weights         : None\n",
      "loss_scale             : dynamic\n",
      "Processing user overrides (additional kwargs that are not None)...\n",
      "After processing overrides, optimization options are:\n",
      "enabled                : True\n",
      "opt_level              : O1\n",
      "cast_model_type        : None\n",
      "patch_torch_functions  : True\n",
      "keep_batchnorm_fp32    : None\n",
      "master_weights         : None\n",
      "loss_scale             : dynamic\n",
      "Warning:  multi_tensor_applier fused unscale kernel is unavailable, possibly because apex was installed without --cuda_ext --cpp_ext. Using Python fallback.  Original ImportError was: ModuleNotFoundError(\"No module named 'amp_C'\",)\n"
     ]
    },
    {
     "data": {
      "text/html": [],
      "text/plain": [
       "<IPython.core.display.HTML object>"
      ]
     },
     "metadata": {},
     "output_type": "display_data"
    },
    {
     "name": "stderr",
     "output_type": "stream",
     "text": [
      "C:\\Users\\mwald\\Miniconda3\\envs\\py36\\lib\\site-packages\\torch\\nn\\functional.py:1340: UserWarning: nn.functional.tanh is deprecated. Use torch.tanh instead.\n",
      "  warnings.warn(\"nn.functional.tanh is deprecated. Use torch.tanh instead.\")\n"
     ]
    },
    {
     "name": "stdout",
     "output_type": "stream",
     "text": [
      "Gradient overflow.  Skipping step, loss scaler 0 reducing loss scale to 32768.0\n",
      "Gradient overflow.  Skipping step, loss scaler 0 reducing loss scale to 16384.0\n",
      "Gradient overflow.  Skipping step, loss scaler 0 reducing loss scale to 8192.0\n"
     ]
    },
    {
     "name": "stderr",
     "output_type": "stream",
     "text": [
      "03/23/2020 22:50:55 - INFO - root -   Running evaluation\n",
      "03/23/2020 22:50:55 - INFO - root -     Num examples = 10753\n",
      "03/23/2020 22:50:55 - INFO - root -     Batch size = 12\n"
     ]
    },
    {
     "data": {
      "text/html": [
       "\n",
       "    <div>\n",
       "        <style>\n",
       "            /* Turns off some styling */\n",
       "            progress {\n",
       "                /* gets rid of default border in Firefox and Opera. */\n",
       "                border: none;\n",
       "                /* Needs to be in here for Safari polyfill so background images work as expected. */\n",
       "                background-size: auto;\n",
       "            }\n",
       "            .progress-bar-interrupted, .progress-bar-interrupted::-webkit-progress-bar {\n",
       "                background: #F44336;\n",
       "            }\n",
       "        </style>\n",
       "      <progress value='897' class='' max='897', style='width:300px; height:20px; vertical-align: middle;'></progress>\n",
       "      100.00% [897/897 15:21<00:00]\n",
       "    </div>\n",
       "    "
      ],
      "text/plain": [
       "<IPython.core.display.HTML object>"
      ]
     },
     "metadata": {},
     "output_type": "display_data"
    },
    {
     "name": "stderr",
     "output_type": "stream",
     "text": [
      "03/23/2020 23:06:16 - INFO - root -   eval_loss after epoch 1: 0.20959679483370638: \n",
      "03/23/2020 23:06:16 - INFO - root -   eval_accuracy_thresh after epoch 1: 0.9235469698905945: \n",
      "03/23/2020 23:06:16 - INFO - root -   eval_roc_auc after epoch 1: 0.9362991626458933: \n",
      "03/23/2020 23:06:16 - INFO - root -   eval_fbeta after epoch 1: 0.7266228795051575: \n",
      "C:\\Users\\mwald\\Miniconda3\\envs\\py36\\lib\\site-packages\\torch\\optim\\lr_scheduler.py:224: UserWarning: To get the last learning rate computed by the scheduler, please use `get_last_lr()`.\n",
      "  warnings.warn(\"To get the last learning rate computed by the scheduler, \"\n",
      "03/23/2020 23:06:16 - INFO - root -   lr after epoch 1: 4.7176401272713025e-05\n",
      "03/23/2020 23:06:16 - INFO - root -   train_loss after epoch 1: 0.34617121147830193\n",
      "03/23/2020 23:06:16 - INFO - root -   \n",
      "\n",
      "03/23/2020 23:42:10 - INFO - root -   Running evaluation\n",
      "03/23/2020 23:42:10 - INFO - root -     Num examples = 10753\n",
      "03/23/2020 23:42:10 - INFO - root -     Batch size = 12\n"
     ]
    },
    {
     "data": {
      "text/html": [
       "\n",
       "    <div>\n",
       "        <style>\n",
       "            /* Turns off some styling */\n",
       "            progress {\n",
       "                /* gets rid of default border in Firefox and Opera. */\n",
       "                border: none;\n",
       "                /* Needs to be in here for Safari polyfill so background images work as expected. */\n",
       "                background-size: auto;\n",
       "            }\n",
       "            .progress-bar-interrupted, .progress-bar-interrupted::-webkit-progress-bar {\n",
       "                background: #F44336;\n",
       "            }\n",
       "        </style>\n",
       "      <progress value='897' class='' max='897', style='width:300px; height:20px; vertical-align: middle;'></progress>\n",
       "      100.00% [897/897 15:21<00:00]\n",
       "    </div>\n",
       "    "
      ],
      "text/plain": [
       "<IPython.core.display.HTML object>"
      ]
     },
     "metadata": {},
     "output_type": "display_data"
    },
    {
     "name": "stderr",
     "output_type": "stream",
     "text": [
      "03/23/2020 23:57:32 - INFO - root -   eval_loss after epoch 2: 0.1680510353292842: \n",
      "03/23/2020 23:57:32 - INFO - root -   eval_accuracy_thresh after epoch 2: 0.9393565058708191: \n",
      "03/23/2020 23:57:32 - INFO - root -   eval_roc_auc after epoch 2: 0.9564444258381268: \n",
      "03/23/2020 23:57:32 - INFO - root -   eval_fbeta after epoch 2: 0.7954102754592896: \n",
      "03/23/2020 23:57:32 - INFO - root -   lr after epoch 2: 3.5319348342881726e-05\n",
      "03/23/2020 23:57:32 - INFO - root -   train_loss after epoch 2: 0.2002632713025333\n",
      "03/23/2020 23:57:32 - INFO - root -   \n",
      "\n",
      "03/24/2020 00:32:59 - INFO - root -   Running evaluation\n",
      "03/24/2020 00:32:59 - INFO - root -     Num examples = 10753\n",
      "03/24/2020 00:32:59 - INFO - root -     Batch size = 12\n"
     ]
    },
    {
     "data": {
      "text/html": [
       "\n",
       "    <div>\n",
       "        <style>\n",
       "            /* Turns off some styling */\n",
       "            progress {\n",
       "                /* gets rid of default border in Firefox and Opera. */\n",
       "                border: none;\n",
       "                /* Needs to be in here for Safari polyfill so background images work as expected. */\n",
       "                background-size: auto;\n",
       "            }\n",
       "            .progress-bar-interrupted, .progress-bar-interrupted::-webkit-progress-bar {\n",
       "                background: #F44336;\n",
       "            }\n",
       "        </style>\n",
       "      <progress value='897' class='' max='897', style='width:300px; height:20px; vertical-align: middle;'></progress>\n",
       "      100.00% [897/897 15:21<00:00]\n",
       "    </div>\n",
       "    "
      ],
      "text/plain": [
       "<IPython.core.display.HTML object>"
      ]
     },
     "metadata": {},
     "output_type": "display_data"
    },
    {
     "name": "stderr",
     "output_type": "stream",
     "text": [
      "03/24/2020 00:48:20 - INFO - root -   eval_loss after epoch 3: 0.1542115117752366: \n",
      "03/24/2020 00:48:20 - INFO - root -   eval_accuracy_thresh after epoch 3: 0.9434576630592346: \n",
      "03/24/2020 00:48:20 - INFO - root -   eval_roc_auc after epoch 3: 0.9631579523844859: \n",
      "03/24/2020 00:48:20 - INFO - root -   eval_fbeta after epoch 3: 0.8127401471138: \n",
      "03/24/2020 00:48:20 - INFO - root -   lr after epoch 3: 1.905904182045629e-05\n",
      "03/24/2020 00:48:20 - INFO - root -   train_loss after epoch 3: 0.1731901742763115\n",
      "03/24/2020 00:48:20 - INFO - root -   \n",
      "\n"
     ]
    },
    {
     "name": "stdout",
     "output_type": "stream",
     "text": [
      "Gradient overflow.  Skipping step, loss scaler 0 reducing loss scale to 16384.0\n"
     ]
    },
    {
     "name": "stderr",
     "output_type": "stream",
     "text": [
      "03/24/2020 01:23:49 - INFO - root -   Running evaluation\n",
      "03/24/2020 01:23:49 - INFO - root -     Num examples = 10753\n",
      "03/24/2020 01:23:49 - INFO - root -     Batch size = 12\n"
     ]
    },
    {
     "data": {
      "text/html": [
       "\n",
       "    <div>\n",
       "        <style>\n",
       "            /* Turns off some styling */\n",
       "            progress {\n",
       "                /* gets rid of default border in Firefox and Opera. */\n",
       "                border: none;\n",
       "                /* Needs to be in here for Safari polyfill so background images work as expected. */\n",
       "                background-size: auto;\n",
       "            }\n",
       "            .progress-bar-interrupted, .progress-bar-interrupted::-webkit-progress-bar {\n",
       "                background: #F44336;\n",
       "            }\n",
       "        </style>\n",
       "      <progress value='897' class='' max='897', style='width:300px; height:20px; vertical-align: middle;'></progress>\n",
       "      100.00% [897/897 15:21<00:00]\n",
       "    </div>\n",
       "    "
      ],
      "text/plain": [
       "<IPython.core.display.HTML object>"
      ]
     },
     "metadata": {},
     "output_type": "display_data"
    },
    {
     "name": "stderr",
     "output_type": "stream",
     "text": [
      "03/24/2020 01:39:10 - INFO - root -   eval_loss after epoch 4: 0.1486950461257461: \n",
      "03/24/2020 01:39:10 - INFO - root -   eval_accuracy_thresh after epoch 4: 0.9458290934562683: \n",
      "03/24/2020 01:39:10 - INFO - root -   eval_roc_auc after epoch 4: 0.9656132106478386: \n",
      "03/24/2020 01:39:10 - INFO - root -   eval_fbeta after epoch 4: 0.8236656785011292: \n",
      "03/24/2020 01:39:10 - INFO - root -   lr after epoch 4: 5.333735045914379e-06\n",
      "03/24/2020 01:39:10 - INFO - root -   train_loss after epoch 4: 0.16239377306083427\n",
      "03/24/2020 01:39:10 - INFO - root -   \n",
      "\n",
      "03/24/2020 02:14:34 - INFO - root -   Running evaluation\n",
      "03/24/2020 02:14:34 - INFO - root -     Num examples = 10753\n",
      "03/24/2020 02:14:34 - INFO - root -     Batch size = 12\n"
     ]
    },
    {
     "data": {
      "text/html": [
       "\n",
       "    <div>\n",
       "        <style>\n",
       "            /* Turns off some styling */\n",
       "            progress {\n",
       "                /* gets rid of default border in Firefox and Opera. */\n",
       "                border: none;\n",
       "                /* Needs to be in here for Safari polyfill so background images work as expected. */\n",
       "                background-size: auto;\n",
       "            }\n",
       "            .progress-bar-interrupted, .progress-bar-interrupted::-webkit-progress-bar {\n",
       "                background: #F44336;\n",
       "            }\n",
       "        </style>\n",
       "      <progress value='897' class='' max='897', style='width:300px; height:20px; vertical-align: middle;'></progress>\n",
       "      100.00% [897/897 15:21<00:00]\n",
       "    </div>\n",
       "    "
      ],
      "text/plain": [
       "<IPython.core.display.HTML object>"
      ]
     },
     "metadata": {},
     "output_type": "display_data"
    },
    {
     "name": "stderr",
     "output_type": "stream",
     "text": [
      "03/24/2020 02:29:55 - INFO - root -   eval_loss after epoch 5: 0.14776265039757608: \n",
      "03/24/2020 02:29:55 - INFO - root -   eval_accuracy_thresh after epoch 5: 0.9461266994476318: \n",
      "03/24/2020 02:29:55 - INFO - root -   eval_roc_auc after epoch 5: 0.9661402275749296: \n",
      "03/24/2020 02:29:55 - INFO - root -   eval_fbeta after epoch 5: 0.8254989981651306: \n",
      "03/24/2020 02:29:55 - INFO - root -   lr after epoch 5: 0.0\n",
      "03/24/2020 02:29:55 - INFO - root -   train_loss after epoch 5: 0.15801390515597785\n",
      "03/24/2020 02:29:55 - INFO - root -   \n",
      "\n"
     ]
    },
    {
     "data": {
      "text/plain": [
       "(8965, 0.20800646705479178)"
      ]
     },
     "execution_count": 39,
     "metadata": {},
     "output_type": "execute_result"
    }
   ],
   "source": [
    "learner.fit(args.num_train_epochs, args.learning_rate, validate=True)"
   ]
  },
  {
   "cell_type": "code",
   "execution_count": 40,
   "metadata": {
    "ExecuteTime": {
     "end_time": "2020-03-24T14:14:09.083975Z",
     "start_time": "2020-03-24T13:58:56.194185Z"
    }
   },
   "outputs": [
    {
     "name": "stderr",
     "output_type": "stream",
     "text": [
      "03/24/2020 08:58:56 - INFO - root -   Running evaluation\n",
      "03/24/2020 08:58:56 - INFO - root -     Num examples = 10753\n",
      "03/24/2020 08:58:56 - INFO - root -     Batch size = 12\n"
     ]
    },
    {
     "data": {
      "text/html": [
       "\n",
       "    <div>\n",
       "        <style>\n",
       "            /* Turns off some styling */\n",
       "            progress {\n",
       "                /* gets rid of default border in Firefox and Opera. */\n",
       "                border: none;\n",
       "                /* Needs to be in here for Safari polyfill so background images work as expected. */\n",
       "                background-size: auto;\n",
       "            }\n",
       "            .progress-bar-interrupted, .progress-bar-interrupted::-webkit-progress-bar {\n",
       "                background: #F44336;\n",
       "            }\n",
       "        </style>\n",
       "      <progress value='897' class='' max='897', style='width:300px; height:20px; vertical-align: middle;'></progress>\n",
       "      100.00% [897/897 15:12<00:00]\n",
       "    </div>\n",
       "    "
      ],
      "text/plain": [
       "<IPython.core.display.HTML object>"
      ]
     },
     "metadata": {},
     "output_type": "display_data"
    },
    {
     "data": {
      "text/plain": [
       "{'loss': 0.14776265039757608,\n",
       " 'accuracy_thresh': 0.9461266994476318,\n",
       " 'roc_auc': 0.9661402275749296,\n",
       " 'fbeta': 0.8254989981651306}"
      ]
     },
     "execution_count": 40,
     "metadata": {},
     "output_type": "execute_result"
    }
   ],
   "source": [
    "learner.validate()"
   ]
  },
  {
   "cell_type": "code",
   "execution_count": 41,
   "metadata": {
    "ExecuteTime": {
     "end_time": "2020-03-24T14:14:10.440011Z",
     "start_time": "2020-03-24T14:14:09.084972Z"
    }
   },
   "outputs": [
    {
     "name": "stderr",
     "output_type": "stream",
     "text": [
      "03/24/2020 09:14:09 - INFO - transformers.configuration_utils -   Configuration saved in ..\\models\\output\\model_out\\config.json\n",
      "03/24/2020 09:14:10 - INFO - transformers.modeling_utils -   Model weights saved in ..\\models\\output\\model_out\\pytorch_model.bin\n"
     ]
    }
   ],
   "source": [
    "learner.save_model()"
   ]
  },
  {
   "cell_type": "code",
   "execution_count": 43,
   "metadata": {
    "ExecuteTime": {
     "end_time": "2020-03-24T14:14:31.394036Z",
     "start_time": "2020-03-24T14:14:31.070900Z"
    }
   },
   "outputs": [
    {
     "name": "stderr",
     "output_type": "stream",
     "text": [
      "03/24/2020 09:14:31 - INFO - root -   Writing example 0 of 3\n"
     ]
    },
    {
     "data": {
      "text/plain": [
       "[[('Economic', 0.95654296875),\n",
       "  ('Abstract_Strategy', 0.07476806640625),\n",
       "  ('Dice', 0.0411376953125),\n",
       "  ('Card_Game', 0.039794921875),\n",
       "  ('Fantasy', 0.030731201171875),\n",
       "  ('Wargame', 0.0282135009765625),\n",
       "  ('Science_Fiction', 0.0235137939453125),\n",
       "  ('Childrens_Game', 0.01812744140625),\n",
       "  ('Party_Game', 0.017913818359375),\n",
       "  ('Fighting', 0.0170440673828125)],\n",
       " [('Science_Fiction', 0.953125),\n",
       "  ('Economic', 0.270751953125),\n",
       "  ('Wargame', 0.2100830078125),\n",
       "  ('Fighting', 0.07421875),\n",
       "  ('Dice', 0.06756591796875),\n",
       "  ('Card_Game', 0.062103271484375),\n",
       "  ('Abstract_Strategy', 0.047607421875),\n",
       "  ('Fantasy', 0.0216217041015625),\n",
       "  ('Childrens_Game', 0.011871337890625),\n",
       "  ('Party_Game', 0.00981903076171875)],\n",
       " [('Economic', 0.9521484375),\n",
       "  ('Card_Game', 0.06854248046875),\n",
       "  ('Abstract_Strategy', 0.047088623046875),\n",
       "  ('Dice', 0.0391845703125),\n",
       "  ('Science_Fiction', 0.034423828125),\n",
       "  ('Fantasy', 0.0264129638671875),\n",
       "  ('Wargame', 0.0235595703125),\n",
       "  ('Childrens_Game', 0.0193023681640625),\n",
       "  ('Fighting', 0.0170440673828125),\n",
       "  ('Party_Game', 0.015838623046875)]]"
      ]
     },
     "execution_count": 43,
     "metadata": {},
     "output_type": "execute_result"
    }
   ],
   "source": [
    "learner.predict_batch(list(pd.read_csv('../data/cats/test.csv')['description'].values[:3]))"
   ]
  },
  {
   "cell_type": "code",
   "execution_count": 44,
   "metadata": {
    "ExecuteTime": {
     "end_time": "2020-03-24T14:22:00.968998Z",
     "start_time": "2020-03-24T14:22:00.943040Z"
    }
   },
   "outputs": [
    {
     "data": {
      "text/html": [
       "<div>\n",
       "<style scoped>\n",
       "    .dataframe tbody tr th:only-of-type {\n",
       "        vertical-align: middle;\n",
       "    }\n",
       "\n",
       "    .dataframe tbody tr th {\n",
       "        vertical-align: top;\n",
       "    }\n",
       "\n",
       "    .dataframe thead th {\n",
       "        text-align: right;\n",
       "    }\n",
       "</style>\n",
       "<table border=\"1\" class=\"dataframe\">\n",
       "  <thead>\n",
       "    <tr style=\"text-align: right;\">\n",
       "      <th></th>\n",
       "      <th>3</th>\n",
       "      <th>5</th>\n",
       "      <th>22</th>\n",
       "    </tr>\n",
       "  </thead>\n",
       "  <tbody>\n",
       "    <tr>\n",
       "      <th>game_id</th>\n",
       "      <td>224517</td>\n",
       "      <td>233078</td>\n",
       "      <td>3076</td>\n",
       "    </tr>\n",
       "    <tr>\n",
       "      <th>description</th>\n",
       "      <td>Brass: Birmingham is an economic strategy game...</td>\n",
       "      <td>Twilight Imperium (Fourth Edition) is a game o...</td>\n",
       "      <td>In Puerto Rico players assume the roles of col...</td>\n",
       "    </tr>\n",
       "    <tr>\n",
       "      <th>Card_Game</th>\n",
       "      <td>0</td>\n",
       "      <td>0</td>\n",
       "      <td>0</td>\n",
       "    </tr>\n",
       "    <tr>\n",
       "      <th>Wargame</th>\n",
       "      <td>0</td>\n",
       "      <td>1</td>\n",
       "      <td>0</td>\n",
       "    </tr>\n",
       "    <tr>\n",
       "      <th>Fantasy</th>\n",
       "      <td>0</td>\n",
       "      <td>0</td>\n",
       "      <td>0</td>\n",
       "    </tr>\n",
       "    <tr>\n",
       "      <th>Party_Game</th>\n",
       "      <td>0</td>\n",
       "      <td>0</td>\n",
       "      <td>0</td>\n",
       "    </tr>\n",
       "    <tr>\n",
       "      <th>Dice</th>\n",
       "      <td>0</td>\n",
       "      <td>0</td>\n",
       "      <td>0</td>\n",
       "    </tr>\n",
       "    <tr>\n",
       "      <th>Fighting</th>\n",
       "      <td>0</td>\n",
       "      <td>0</td>\n",
       "      <td>0</td>\n",
       "    </tr>\n",
       "    <tr>\n",
       "      <th>Science_Fiction</th>\n",
       "      <td>0</td>\n",
       "      <td>1</td>\n",
       "      <td>0</td>\n",
       "    </tr>\n",
       "    <tr>\n",
       "      <th>Childrens_Game</th>\n",
       "      <td>0</td>\n",
       "      <td>0</td>\n",
       "      <td>0</td>\n",
       "    </tr>\n",
       "    <tr>\n",
       "      <th>Abstract_Strategy</th>\n",
       "      <td>0</td>\n",
       "      <td>0</td>\n",
       "      <td>0</td>\n",
       "    </tr>\n",
       "    <tr>\n",
       "      <th>Economic</th>\n",
       "      <td>1</td>\n",
       "      <td>1</td>\n",
       "      <td>1</td>\n",
       "    </tr>\n",
       "    <tr>\n",
       "      <th>rand</th>\n",
       "      <td>0.962973</td>\n",
       "      <td>0.944258</td>\n",
       "      <td>0.961365</td>\n",
       "    </tr>\n",
       "  </tbody>\n",
       "</table>\n",
       "</div>"
      ],
      "text/plain": [
       "                                                                  3   \\\n",
       "game_id                                                       224517   \n",
       "description        Brass: Birmingham is an economic strategy game...   \n",
       "Card_Game                                                          0   \n",
       "Wargame                                                            0   \n",
       "Fantasy                                                            0   \n",
       "Party_Game                                                         0   \n",
       "Dice                                                               0   \n",
       "Fighting                                                           0   \n",
       "Science_Fiction                                                    0   \n",
       "Childrens_Game                                                     0   \n",
       "Abstract_Strategy                                                  0   \n",
       "Economic                                                           1   \n",
       "rand                                                        0.962973   \n",
       "\n",
       "                                                                  5   \\\n",
       "game_id                                                       233078   \n",
       "description        Twilight Imperium (Fourth Edition) is a game o...   \n",
       "Card_Game                                                          0   \n",
       "Wargame                                                            1   \n",
       "Fantasy                                                            0   \n",
       "Party_Game                                                         0   \n",
       "Dice                                                               0   \n",
       "Fighting                                                           0   \n",
       "Science_Fiction                                                    1   \n",
       "Childrens_Game                                                     0   \n",
       "Abstract_Strategy                                                  0   \n",
       "Economic                                                           1   \n",
       "rand                                                        0.944258   \n",
       "\n",
       "                                                                  22  \n",
       "game_id                                                         3076  \n",
       "description        In Puerto Rico players assume the roles of col...  \n",
       "Card_Game                                                          0  \n",
       "Wargame                                                            0  \n",
       "Fantasy                                                            0  \n",
       "Party_Game                                                         0  \n",
       "Dice                                                               0  \n",
       "Fighting                                                           0  \n",
       "Science_Fiction                                                    0  \n",
       "Childrens_Game                                                     0  \n",
       "Abstract_Strategy                                                  0  \n",
       "Economic                                                           1  \n",
       "rand                                                        0.961365  "
      ]
     },
     "execution_count": 44,
     "metadata": {},
     "output_type": "execute_result"
    }
   ],
   "source": [
    "pd.read_csv('../data/cats/test.csv', index_col=0).head(3).T"
   ]
  },
  {
   "cell_type": "code",
   "execution_count": null,
   "metadata": {
    "ExecuteTime": {
     "start_time": "2020-03-24T14:36:33.796Z"
    }
   },
   "outputs": [],
   "source": [
    "pd.read_csv('../data/cats/test.csv', index_col=0).description.values[2]"
   ]
  },
  {
   "cell_type": "code",
   "execution_count": null,
   "metadata": {},
   "outputs": [],
   "source": []
  }
 ],
 "metadata": {
  "kernelspec": {
   "display_name": "Python 3",
   "language": "python",
   "name": "python3"
  },
  "language_info": {
   "codemirror_mode": {
    "name": "ipython",
    "version": 3
   },
   "file_extension": ".py",
   "mimetype": "text/x-python",
   "name": "python",
   "nbconvert_exporter": "python",
   "pygments_lexer": "ipython3",
   "version": "3.6.10"
  },
  "toc": {
   "base_numbering": 1,
   "nav_menu": {},
   "number_sections": true,
   "sideBar": true,
   "skip_h1_title": false,
   "title_cell": "Table of Contents",
   "title_sidebar": "Contents",
   "toc_cell": false,
   "toc_position": {},
   "toc_section_display": true,
   "toc_window_display": true
  }
 },
 "nbformat": 4,
 "nbformat_minor": 4
}
